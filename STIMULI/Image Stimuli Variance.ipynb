{
 "cells": [
  {
   "cell_type": "markdown",
   "metadata": {},
   "source": [
    "## Bounding box area versus corners\n",
    "Using OpenCV to do image processing and get the area of the bounding box. "
   ]
  },
  {
   "cell_type": "code",
   "execution_count": 73,
   "metadata": {
    "collapsed": true
   },
   "outputs": [],
   "source": [
    "images = {}"
   ]
  },
  {
   "cell_type": "code",
   "execution_count": 74,
   "metadata": {
    "collapsed": false
   },
   "outputs": [],
   "source": [
    "for zscore in range(13):\n",
    "    images[zscore] = {}\n",
    "    \n",
    "    types = [\"LC\", \"PS\"]\n",
    "    for method in types: \n",
    "        for num in range(15):\n",
    "            name = method + str(num)\n",
    "            \n",
    "            images[zscore][name] = []"
   ]
  },
  {
   "cell_type": "markdown",
   "metadata": {},
   "source": [
    "**corners, bounding box, ratio box to area**"
   ]
  },
  {
   "cell_type": "code",
   "execution_count": null,
   "metadata": {
    "collapsed": true
   },
   "outputs": [],
   "source": []
  },
  {
   "cell_type": "code",
   "execution_count": 8,
   "metadata": {
    "collapsed": true
   },
   "outputs": [],
   "source": [
    "%matplotlib inline\n",
    "import cv2\n",
    "import numpy as np\n",
    "import os\n",
    "from matplotlib import pyplot as plt\n",
    "import math\n",
    "from __future__ import division"
   ]
  },
  {
   "cell_type": "code",
   "execution_count": 9,
   "metadata": {
    "collapsed": false,
    "scrolled": true
   },
   "outputs": [],
   "source": [
    "def get_boundingBox(image_path, area=False, rotate=True):\n",
    "    # get the image\n",
    "    im_in = cv2.imread(image_path,0)\n",
    "\n",
    "    # Threshold.\n",
    "    # Set values equal to or above 220 to 0.\n",
    "    # Set values below 220 to 255.\n",
    "\n",
    "    th, im_th = cv2.threshold(im_in, 225, 255, cv2.THRESH_BINARY_INV);\n",
    "\n",
    "    # Copy the thresholded image.\n",
    "    im_floodfill = im_th.copy()\n",
    "\n",
    "    # Mask used to flood filling.\n",
    "    # Notice the size needs to be 2 pixels than the image.\n",
    "    h, w = im_th.shape[:2]\n",
    "    mask = np.zeros((h+2, w+2), np.uint8)\n",
    "\n",
    "    # Floodfill from point (0, 0)\n",
    "    cv2.floodFill(im_floodfill, mask, (0,0), 255);\n",
    "\n",
    "    # Invert floodfilled image\n",
    "    im_floodfill_inv = cv2.bitwise_not(im_floodfill)\n",
    "\n",
    "    # Combine the two images to get the foreground.\n",
    "    im_out = im_th | im_floodfill_inv\n",
    "\n",
    "    im_out, contours,hierarchy = cv2.findContours(im_out, 1, 2)\n",
    "    cnt = contours[0]\n",
    "    cntArea = cv2.contourArea(cnt)\n",
    "    \n",
    "    if rotate:\n",
    "        # Now get the bounding box\n",
    "        rect = cv2.minAreaRect(cnt)\n",
    "        box = cv2.boxPoints(rect)\n",
    "        box = np.int0(box)\n",
    "        if area:\n",
    "            return rect[1][0] * rect[1][1], int(cntArea)\n",
    "\n",
    "        return im_out, box\n",
    "   \n",
    "    else:\n",
    "        x,y,w,h = cv2.boundingRect(cnt)\n",
    "        box = np.array([[x,y],[x,y+h],[x+w, y+h],[x+w,y]])\n",
    "        \n",
    "        if area: \n",
    "            return w*h, int(cntArea)\n",
    "        \n",
    "        return im_out, box\n",
    "    "
   ]
  },
  {
   "cell_type": "markdown",
   "metadata": {},
   "source": [
    "### Testing\n",
    "Testing the bounding box function and printing it out, making sure that the box is correct"
   ]
  },
  {
   "cell_type": "code",
   "execution_count": 170,
   "metadata": {
    "collapsed": false
   },
   "outputs": [
    {
     "name": "stdout",
     "output_type": "stream",
     "text": [
      "0.461674008811\n"
     ]
    },
    {
     "data": {
      "image/png": "[encoded data removed]",
      "text/plain": [
       "<matplotlib.figure.Figure at 0x11413ebd0>"
      ]
     },
     "metadata": {},
     "output_type": "display_data"
    }
   ],
   "source": [
    "test_image = os.path.join(imageStimDir, str(10), \"LC\", \"LC1103.tif\")\n",
    "\n",
    "# running function\n",
    "test_box = get_boundingBox(test_image, area=False, rotate=False)\n",
    "\n",
    "# Show the output\n",
    "output = cv2.drawContours(test_box[0],[test_box[1]],0,(255,255,255),2)\n",
    "plt.imshow(output, cmap = 'gray')\n",
    "\n",
    "# Get the area\n",
    "test_box = get_boundingBox(test_image, area=True, rotate=False)\n",
    "print test_box[1]/test_box[0]"
   ]
  },
  {
   "cell_type": "markdown",
   "metadata": {},
   "source": [
    "## Comparing all images\n",
    "\n",
    "Now we can run on all the images, comparing the number of corners to the size of the rotated bounding box"
   ]
  },
  {
   "cell_type": "code",
   "execution_count": 217,
   "metadata": {
    "collapsed": true
   },
   "outputs": [],
   "source": [
    "cwd = os.getcwd()\n",
    "imageStimDir = os.path.join(cwd, \"stimuli_v1\", \"images\")"
   ]
  },
  {
   "cell_type": "code",
   "execution_count": 248,
   "metadata": {
    "collapsed": false,
    "scrolled": true
   },
   "outputs": [],
   "source": [
    "corners = []\n",
    "rotatedArea = []\n",
    "\n",
    "for numCorners in range(1,14):\n",
    "    LCDir = os.path.join(imageStimDir, str(numCorners), \"LC\")\n",
    "    PSDir = os.path.join(imageStimDir, str(numCorners), \"PS\")\n",
    "    \n",
    "    for imageFile in os.listdir(LCDir):\n",
    "        image_path = os.path.join(LCDir, imageFile)\n",
    "        \n",
    "        if imageFile == \".DS_Store\":\n",
    "            os.remove(image_path)\n",
    "            continue\n",
    "        \n",
    "        area = get_boundingBox(image_path, area=True)\n",
    "            \n",
    "        if area[0] <= 0:\n",
    "            continue\n",
    "            \n",
    "        corners.append(numCorners)\n",
    "        rotatedArea.append(area[0])\n",
    "\n",
    "    for imageFile in os.listdir(PSDir):\n",
    "        image_path = os.path.join(PSDir, imageFile)\n",
    "     \n",
    "        area = get_boundingBox(image_path, area=True)\n",
    "        if area[0] <= 0:\n",
    "            continue\n",
    "            \n",
    "        corners.append(numCorners)\n",
    "        rotatedArea.append(area[0])\n",
    "        \n",
    "    "
   ]
  },
  {
   "cell_type": "markdown",
   "metadata": {},
   "source": [
    "### Plotting \n",
    "Plotting corners versus bounding box area\n"
   ]
  },
  {
   "cell_type": "code",
   "execution_count": 249,
   "metadata": {
    "collapsed": false,
    "scrolled": true
   },
   "outputs": [
    {
     "data": {
      "text/plain": [
       "[<matplotlib.lines.Line2D at 0x115f1da10>]"
      ]
     },
     "execution_count": 249,
     "metadata": {},
     "output_type": "execute_result"
    },
    {
     "data": {
      "image/png": "[encoded data removed]",
      "text/plain": [
       "<matplotlib.figure.Figure at 0x115c79590>"
      ]
     },
     "metadata": {},
     "output_type": "display_data"
    }
   ],
   "source": [
    "plt.plot(corners, rotatedArea, 'ko')"
   ]
  },
  {
   "cell_type": "markdown",
   "metadata": {},
   "source": [
    "### Covariance matrix"
   ]
  },
  {
   "cell_type": "code",
   "execution_count": 250,
   "metadata": {
    "collapsed": false,
    "scrolled": false
   },
   "outputs": [],
   "source": [
    "rotated_data = np.array([corners, rotatedArea])"
   ]
  },
  {
   "cell_type": "code",
   "execution_count": 251,
   "metadata": {
    "collapsed": false
   },
   "outputs": [
    {
     "data": {
      "text/plain": [
       "array([[ 1.        ,  0.36333343],\n",
       "       [ 0.36333343,  1.        ]])"
      ]
     },
     "execution_count": 251,
     "metadata": {},
     "output_type": "execute_result"
    }
   ],
   "source": [
    "np.corrcoef(rotated_data)"
   ]
  },
  {
   "cell_type": "markdown",
   "metadata": {},
   "source": [
    "## Comparing with a straight bounding rectangle\n",
    "The rotated rectangle might not be giving us the actual representation that we want. The rotated rectangle is giving a rougher estimate of pure area, and not bounding box. Looking at straight bounding rectangle"
   ]
  },
  {
   "cell_type": "code",
   "execution_count": 265,
   "metadata": {
    "collapsed": false
   },
   "outputs": [],
   "source": [
    "corners = []\n",
    "boxArea = []\n",
    "\n",
    "for numCorners in range(1,14):\n",
    "    \n",
    "    \n",
    "    LCDir = os.path.join(imageStimDir, str(numCorners), \"LC\")\n",
    "    PSDir = os.path.join(imageStimDir, str(numCorners), \"PS\")\n",
    "    \n",
    "    for imageFile in os.listdir(LCDir):\n",
    "        image_path = os.path.join(LCDir, imageFile)\n",
    "        \n",
    "        if imageFile == \".DS_Store\":\n",
    "            os.remove(image_path)\n",
    "            continue\n",
    "        \n",
    "        area = get_boundingBox(image_path, area=True)\n",
    "        if area[0] <= 0:\n",
    "            continue\n",
    "        corners.append(numCorners)\n",
    "        boxArea.append(get_boundingBox(image_path, area=True, \n",
    "                                       rotate=False)[0])\n",
    "\n",
    "    for imageFile in os.listdir(PSDir):\n",
    "        image_path = os.path.join(PSDir, imageFile)\n",
    "        \n",
    "        area = get_boundingBox(image_path, area=True)\n",
    "        if area[0] <= 0:\n",
    "            continue\n",
    "        corners.append(numCorners)\n",
    "        boxArea.append(get_boundingBox(image_path, area=True, \n",
    "                                      rotate=False)[0])"
   ]
  },
  {
   "cell_type": "code",
   "execution_count": 11,
   "metadata": {
    "collapsed": true
   },
   "outputs": [],
   "source": [
    "cwd = os.getcwd()"
   ]
  },
  {
   "cell_type": "code",
   "execution_count": 65,
   "metadata": {
    "collapsed": true
   },
   "outputs": [],
   "source": [
    "corners = []\n",
    "boxArea = []\n",
    "areaRatio = []"
   ]
  },
  {
   "cell_type": "code",
   "execution_count": 75,
   "metadata": {
    "collapsed": false
   },
   "outputs": [
    {
     "name": "stdout",
     "output_type": "stream",
     "text": [
      "0\n",
      "1\n",
      "2\n",
      "3\n",
      "4\n",
      "5\n",
      "6\n",
      "7\n",
      "8\n",
      "9\n",
      "10\n",
      "11\n",
      "12\n"
     ]
    }
   ],
   "source": [
    "for i in range(13):\n",
    "    sc_dir = os.path.join(cwd, \"images\", str(i))\n",
    "    print i\n",
    "\n",
    "    for method in os.listdir(sc_dir):\n",
    "        image_method = os.path.join(sc_dir, method)\n",
    "        \n",
    "        if method == \".DS_Store\":\n",
    "            os.remove(image_method)\n",
    "            continue\n",
    "            \n",
    "        for num in range(15):\n",
    "            imageFile = os.path.join(image_method, method + str(num))\n",
    "            \n",
    "            if imageFile == \".DS_Store\" + str(num):\n",
    "                os.remove(os.path.join(image_method, \".DS_Store\"))\n",
    "                continue\n",
    "                \n",
    "            area = get_boundingBox(imageFile, area=True, rotate=False)\n",
    "            if area[0] <= 0:\n",
    "                print \"Bad: \" + imageFile \n",
    "                \n",
    "                \n",
    "            images[i][method + str(num)].append(i+1)\n",
    "            images[i][method + str(num)].append(area[0])\n",
    "            images[i][method + str(num)].append(area[1]/area[0])\n",
    "            \n",
    "            corners.append(i+1)\n",
    "            boxArea.append(area[0])    \n",
    "            areaRatio.append(area[1]/area[0])"
   ]
  },
  {
   "cell_type": "markdown",
   "metadata": {},
   "source": [
    "### Plotting \n",
    "Plotting corners versus bounding box area\n"
   ]
  },
  {
   "cell_type": "code",
   "execution_count": 67,
   "metadata": {
    "collapsed": false,
    "scrolled": false
   },
   "outputs": [
    {
     "data": {
      "text/plain": [
       "[<matplotlib.lines.Line2D at 0x11442eb50>]"
      ]
     },
     "execution_count": 67,
     "metadata": {},
     "output_type": "execute_result"
    },
    {
     "data": {
      "image/png": "[encoded data removed]",
      "text/plain": [
       "<matplotlib.figure.Figure at 0x114269190>"
      ]
     },
     "metadata": {},
     "output_type": "display_data"
    }
   ],
   "source": [
    "plt.plot(corners, boxArea, 'ko')"
   ]
  },
  {
   "cell_type": "markdown",
   "metadata": {},
   "source": [
    "### Covariance matrix"
   ]
  },
  {
   "cell_type": "code",
   "execution_count": 43,
   "metadata": {
    "collapsed": false,
    "scrolled": false
   },
   "outputs": [],
   "source": [
    "boxData = np.array([corners, boxArea])"
   ]
  },
  {
   "cell_type": "code",
   "execution_count": 44,
   "metadata": {
    "collapsed": false
   },
   "outputs": [
    {
     "data": {
      "text/plain": [
       "array([[ 1.        ,  0.28159277],\n",
       "       [ 0.28159277,  1.        ]])"
      ]
     },
     "execution_count": 44,
     "metadata": {},
     "output_type": "execute_result"
    }
   ],
   "source": [
    "np.corrcoef(boxData)"
   ]
  },
  {
   "cell_type": "markdown",
   "metadata": {},
   "source": [
    "## Bounding box:Area of shape versus corners"
   ]
  },
  {
   "cell_type": "code",
   "execution_count": 269,
   "metadata": {
    "collapsed": false
   },
   "outputs": [],
   "source": [
    "corners = []\n",
    "areaRatio = []\n",
    "\n",
    "for numCorners in range(1,14):\n",
    "    \n",
    "    \n",
    "    LCDir = os.path.join(imageStimDir, str(numCorners), \"LC\")\n",
    "    PSDir = os.path.join(imageStimDir, str(numCorners), \"PS\")\n",
    "    \n",
    "    for imageFile in os.listdir(LCDir):\n",
    "        image_path = os.path.join(LCDir, imageFile)\n",
    "        \n",
    "        area = get_boundingBox(image_path, area=True, rotate=False)\n",
    "        if area[0] <= 0 or area[1] <= 0:\n",
    "            continue\n",
    "        corners.append(numCorners+1)\n",
    "        areaRatio.append(area[1]/area[0])\n",
    "\n",
    "    for imageFile in os.listdir(PSDir):\n",
    "        image_path = os.path.join(PSDir, imageFile)\n",
    "        \n",
    "        area = get_boundingBox(image_path, area=True, rotate=False)\n",
    "        if area[0] <= 0 or area[1] <= 0:\n",
    "            continue\n",
    "        corners.append(numCorners+1)\n",
    "        areaRatio.append(area[1]/area[0])\n"
   ]
  },
  {
   "cell_type": "markdown",
   "metadata": {},
   "source": [
    "### Plotting \n",
    "Plotting corners versus bounding box area\n"
   ]
  },
  {
   "cell_type": "code",
   "execution_count": 70,
   "metadata": {
    "collapsed": false,
    "scrolled": true
   },
   "outputs": [
    {
     "data": {
      "text/plain": [
       "[<matplotlib.lines.Line2D at 0x1146b4490>]"
      ]
     },
     "execution_count": 70,
     "metadata": {},
     "output_type": "execute_result"
    },
    {
     "data": {
      "image/png": "[encoded data removed]",
      "text/plain": [
       "<matplotlib.figure.Figure at 0x11462fb90>"
      ]
     },
     "metadata": {},
     "output_type": "display_data"
    }
   ],
   "source": [
    "plt.plot(corners, areaRatio, 'ko')"
   ]
  },
  {
   "cell_type": "markdown",
   "metadata": {},
   "source": [
    "### Covariance matrix"
   ]
  },
  {
   "cell_type": "code",
   "execution_count": 46,
   "metadata": {
    "collapsed": false,
    "scrolled": false
   },
   "outputs": [],
   "source": [
    "ratioData = np.array([corners, areaRatio])"
   ]
  },
  {
   "cell_type": "code",
   "execution_count": 47,
   "metadata": {
    "collapsed": false
   },
   "outputs": [
    {
     "data": {
      "text/plain": [
       "array([[ 1.        , -0.14455407],\n",
       "       [-0.14455407,  1.        ]])"
      ]
     },
     "execution_count": 47,
     "metadata": {},
     "output_type": "execute_result"
    }
   ],
   "source": [
    "np.corrcoef(ratioData)"
   ]
  },
  {
   "cell_type": "markdown",
   "metadata": {
    "collapsed": true
   },
   "source": [
    "# Correlations"
   ]
  },
  {
   "cell_type": "code",
   "execution_count": 71,
   "metadata": {
    "collapsed": true
   },
   "outputs": [],
   "source": [
    "allData = np.array([corners, boxArea, areaRatio])"
   ]
  },
  {
   "cell_type": "code",
   "execution_count": 72,
   "metadata": {
    "collapsed": false,
    "scrolled": true
   },
   "outputs": [
    {
     "data": {
      "text/plain": [
       "array([[ 1.        ,  0.29263958, -0.1768541 ],\n",
       "       [ 0.29263958,  1.        , -0.04007765],\n",
       "       [-0.1768541 , -0.04007765,  1.        ]])"
      ]
     },
     "execution_count": 72,
     "metadata": {},
     "output_type": "execute_result"
    }
   ],
   "source": [
    "np.corrcoef(allData)"
   ]
  },
  {
   "cell_type": "markdown",
   "metadata": {},
   "source": [
    "___"
   ]
  },
  {
   "cell_type": "code",
   "execution_count": 76,
   "metadata": {
    "collapsed": false,
    "scrolled": true
   },
   "outputs": [
    {
     "data": {
      "text/plain": [
       "{0: {'LC0': [1, 70782, 0.10140996298493968],\n",
       "  'LC1': [1, 80631, 0.16171199662660762],\n",
       "  'LC10': [1, 47817, 0.22996005604701256],\n",
       "  'LC11': [1, 34572, 0.21364109684137453],\n",
       "  'LC12': [1, 29512, 0.31688804554079697],\n",
       "  'LC13': [1, 15372, 0.62848035389019],\n",
       "  'LC14': [1, 20601, 0.6618125333721664],\n",
       "  'LC2': [1, 32936, 0.657639057566189],\n",
       "  'LC3': [1, 11250, 0.6434666666666666],\n",
       "  'LC4': [1, 74807, 0.20506102370099055],\n",
       "  'LC5': [1, 54289, 0.056236069922083666],\n",
       "  'LC6': [1, 12388, 0.6494995156603164],\n",
       "  'LC7': [1, 57558, 0.111921887487404],\n",
       "  'LC8': [1, 33184, 0.21766513982642238],\n",
       "  'LC9': [1, 44802, 0.2662381143698942],\n",
       "  'PS0': [1, 44660, 0.7387371249440216],\n",
       "  'PS1': [1, 57043, 0.6336798555475693],\n",
       "  'PS10': [1, 51106, 0.6956326067389348],\n",
       "  'PS11': [1, 41006, 0.7523045407989075],\n",
       "  'PS12': [1, 53934, 0.5795602032113324],\n",
       "  'PS13': [1, 45864, 0.6709401709401709],\n",
       "  'PS14': [1, 91745, 0.4348465856449943],\n",
       "  'PS2': [1, 43044, 0.7550645850757365],\n",
       "  'PS3': [1, 80330, 0.5005850865181127],\n",
       "  'PS4': [1, 52318, 0.6684124010856685],\n",
       "  'PS5': [1, 41006, 0.7336975076818026],\n",
       "  'PS6': [1, 61009, 0.6275795374452949],\n",
       "  'PS7': [1, 36080, 0.6105321507760532],\n",
       "  'PS8': [1, 39794, 0.7502136000402071],\n",
       "  'PS9': [1, 69434, 0.5493706253420515]},\n",
       " 1: {'LC0': [2, 60192, 0.469514221158958],\n",
       "  'LC1': [2, 26462, 0.2806288262414028],\n",
       "  'LC10': [2, 50740, 0.16687031927473395],\n",
       "  'LC11': [2, 58380, 0.17581363480644055],\n",
       "  'LC12': [2, 17262, 0.7348511180627969],\n",
       "  'LC13': [2, 18980, 0.5829293993677556],\n",
       "  'LC14': [2, 51520, 0.4070458074534162],\n",
       "  'LC2': [2, 37128, 0.1705720749838397],\n",
       "  'LC3': [2, 23712, 0.668058367071525],\n",
       "  'LC4': [2, 61920, 0.3972060723514212],\n",
       "  'LC5': [2, 15400, 0.5262337662337663],\n",
       "  'LC6': [2, 102872, 0.2472684501127615],\n",
       "  'LC7': [2, 28829, 0.36702625828159147],\n",
       "  'LC8': [2, 26162, 0.5103585352801774],\n",
       "  'LC9': [2, 60732, 0.5858196667325298],\n",
       "  'PS0': [2, 57358, 0.6661320129711635],\n",
       "  'PS1': [2, 62909, 0.6027754375367594],\n",
       "  'PS10': [2, 49000, 0.7152244897959184],\n",
       "  'PS11': [2, 61500, 0.5559674796747968],\n",
       "  'PS12': [2, 74360, 0.46857181280258203],\n",
       "  'PS13': [2, 59508, 0.6110943066478457],\n",
       "  'PS14': [2, 43164, 0.732856083773515],\n",
       "  'PS2': [2, 111047, 0.3380460525723342],\n",
       "  'PS3': [2, 50635, 0.6805766762121063],\n",
       "  'PS4': [2, 61788, 0.5424192399818735],\n",
       "  'PS5': [2, 45652, 0.6716682730219925],\n",
       "  'PS6': [2, 58869, 0.6122407379095959],\n",
       "  'PS7': [2, 87750, 0.5522393162393162],\n",
       "  'PS8': [2, 58302, 0.6852766628932112],\n",
       "  'PS9': [2, 51695, 0.693103781797079]},\n",
       " 2: {'LC0': [3, 48880, 0.2029050736497545],\n",
       "  'LC1': [3, 44545, 0.22408800089796835],\n",
       "  'LC10': [3, 12614, 0.5145869668622166],\n",
       "  'LC11': [3, 15194, 0.4585362643148611],\n",
       "  'LC12': [3, 6678, 0.41853848457622045],\n",
       "  'LC13': [3, 16892, 0.41096376983187305],\n",
       "  'LC14': [3, 19158, 0.4424783380311097],\n",
       "  'LC2': [3, 40710, 0.10284942274625399],\n",
       "  'LC3': [3, 54600, 0.247014652014652],\n",
       "  'LC4': [3, 62486, 0.5642383893992254],\n",
       "  'LC5': [3, 37168, 0.3131457167455876],\n",
       "  'LC6': [3, 82240, 0.12095087548638132],\n",
       "  'LC7': [3, 63960, 0.34910881801125704],\n",
       "  'LC8': [3, 9025, 0.36997229916897506],\n",
       "  'LC9': [3, 24650, 0.21371196754563895],\n",
       "  'PS0': [3, 80726, 0.5417709288209499],\n",
       "  'PS1': [3, 80270, 0.35172542668493834],\n",
       "  'PS10': [3, 48278, 0.6975433945068147],\n",
       "  'PS11': [3, 76146, 0.5786909358337929],\n",
       "  'PS12': [3, 46632, 0.5554340367129867],\n",
       "  'PS13': [3, 72541, 0.5633365958561365],\n",
       "  'PS14': [3, 64163, 0.6124713619999065],\n",
       "  'PS2': [3, 61910, 0.6150541108060087],\n",
       "  'PS3': [3, 59085, 0.5635948210205636],\n",
       "  'PS4': [3, 46782, 0.6749818306186139],\n",
       "  'PS5': [3, 62409, 0.545706548734958],\n",
       "  'PS6': [3, 71877, 0.5528333124643489],\n",
       "  'PS7': [3, 79800, 0.5002506265664161],\n",
       "  'PS8': [3, 54520, 0.587582538517975],\n",
       "  'PS9': [3, 29944, 0.3985439487042479]},\n",
       " 3: {'LC0': [4, 49077, 0.24669397069910548],\n",
       "  'LC1': [4, 48675, 0.2967847971237802],\n",
       "  'LC10': [4, 18582, 0.5862124636745237],\n",
       "  'LC11': [4, 36019, 0.4775812765484883],\n",
       "  'LC12': [4, 10488, 0.111651411136537],\n",
       "  'LC13': [4, 9844, 0.3085127996749289],\n",
       "  'LC14': [4, 7800, 0.5115384615384615],\n",
       "  'LC2': [4, 46968, 0.24557145290410493],\n",
       "  'LC3': [4, 17516, 0.20535510390500114],\n",
       "  'LC4': [4, 42560, 0.15411184210526316],\n",
       "  'LC5': [4, 23232, 0.3609245867768595],\n",
       "  'LC6': [4, 16770, 0.15026833631484796],\n",
       "  'LC7': [4, 37575, 0.14594810379241516],\n",
       "  'LC8': [4, 14065, 0.323498044792037],\n",
       "  'LC9': [4, 16564, 0.47470417773484663],\n",
       "  'PS0': [4, 55370, 0.4047859851905364],\n",
       "  'PS1': [4, 69148, 0.5402614681552612],\n",
       "  'PS10': [4, 44270, 0.561170092613508],\n",
       "  'PS11': [4, 54016, 0.6573607819905213],\n",
       "  'PS12': [4, 94350, 0.39795442501324857],\n",
       "  'PS13': [4, 72774, 0.5471047352076291],\n",
       "  'PS14': [4, 52800, 0.5911553030303031],\n",
       "  'PS2': [4, 87612, 0.34744098981874627],\n",
       "  'PS3': [4, 39952, 0.302663195835002],\n",
       "  'PS4': [4, 65195, 0.517907815016489],\n",
       "  'PS5': [4, 66470, 0.5225515270046638],\n",
       "  'PS6': [4, 103668, 0.39669907782536556],\n",
       "  'PS7': [4, 119879, 0.4426880437774756],\n",
       "  'PS8': [4, 47952, 0.6388263263263263],\n",
       "  'PS9': [4, 72297, 0.5213356017538764]},\n",
       " 4: {'LC0': [5, 59400, 0.3977946127946128],\n",
       "  'LC1': [5, 73840, 0.43563109425785485],\n",
       "  'LC10': [5, 37587, 0.35600074493840955],\n",
       "  'LC11': [5, 16125, 0.3506356589147287],\n",
       "  'LC12': [5, 15200, 0.2742763157894737],\n",
       "  'LC13': [5, 24843, 0.2926377651652377],\n",
       "  'LC14': [5, 31304, 0.2620751341681574],\n",
       "  'LC2': [5, 71095, 0.28682748435192346],\n",
       "  'LC3': [5, 55920, 0.3037017167381974],\n",
       "  'LC4': [5, 57672, 0.16645859342488556],\n",
       "  'LC5': [5, 36860, 0.16456863809007052],\n",
       "  'LC6': [5, 43645, 0.3373353190514377],\n",
       "  'LC7': [5, 37758, 0.3150060914243339],\n",
       "  'LC8': [5, 30856, 0.3302761213378273],\n",
       "  'LC9': [5, 31208, 0.32805690848500385],\n",
       "  'PS0': [5, 64625, 0.4941895551257253],\n",
       "  'PS1': [5, 56419, 0.533915879402329],\n",
       "  'PS10': [5, 94374, 0.4623837073770318],\n",
       "  'PS11': [5, 47685, 0.445548914753067],\n",
       "  'PS12': [5, 58995, 0.5292312907873549],\n",
       "  'PS13': [5, 57096, 0.6203762084909626],\n",
       "  'PS14': [5, 86769, 0.6523066993972502],\n",
       "  'PS2': [5, 65618, 0.4931878447986833],\n",
       "  'PS3': [5, 59276, 0.5277852756596262],\n",
       "  'PS4': [5, 101376, 0.38868173926767674],\n",
       "  'PS5': [5, 82360, 0.4870689655172414],\n",
       "  'PS6': [5, 73264, 0.47749235640969645],\n",
       "  'PS7': [5, 70380, 0.5618641659562376],\n",
       "  'PS8': [5, 78952, 0.3989385956023913],\n",
       "  'PS9': [5, 93177, 0.5066808332528414]},\n",
       " 5: {'LC0': [6, 62244, 0.43178458967932654],\n",
       "  'LC1': [6, 60900, 0.31842364532019707],\n",
       "  'LC10': [6, 14740, 0.5012890094979647],\n",
       "  'LC11': [6, 30070, 0.20728300631858995],\n",
       "  'LC12': [6, 16159, 0.3723621511232131],\n",
       "  'LC13': [6, 17792, 0.22639388489208634],\n",
       "  'LC14': [6, 11550, 0.4649350649350649],\n",
       "  'LC2': [6, 58464, 0.26905446086480567],\n",
       "  'LC3': [6, 59001, 0.29030016440399314],\n",
       "  'LC4': [6, 46782, 0.25708605874054125],\n",
       "  'LC5': [6, 1, 0.0],\n",
       "  'LC6': [6, 18090, 0.2546710889994472],\n",
       "  'LC7': [6, 17871, 0.3844776453472106],\n",
       "  'LC8': [6, 15573, 0.22988505747126436],\n",
       "  'LC9': [6, 19050, 0.3300787401574803],\n",
       "  'PS0': [6, 73308, 0.5736072461395755],\n",
       "  'PS1': [6, 92460, 0.42955872809863727],\n",
       "  'PS10': [6, 86674, 0.394697371760851],\n",
       "  'PS11': [6, 131430, 0.4143726698622841],\n",
       "  'PS12': [6, 78771, 0.5115080422998312],\n",
       "  'PS13': [6, 57268, 0.5758189564852972],\n",
       "  'PS14': [6, 84656, 0.4595657720657721],\n",
       "  'PS2': [6, 82365, 0.3123535482304377],\n",
       "  'PS3': [6, 82080, 0.5837962962962963],\n",
       "  'PS4': [6, 87808, 0.42457407069970843],\n",
       "  'PS5': [6, 87533, 0.45185244422103665],\n",
       "  'PS6': [6, 65170, 0.5091913457112168],\n",
       "  'PS7': [6, 94245, 0.4436309618547403],\n",
       "  'PS8': [6, 114144, 0.4769414073451079],\n",
       "  'PS9': [6, 81012, 0.6203772280649781]},\n",
       " 6: {'LC0': [7, 69445, 0.4276765785873713],\n",
       "  'LC1': [7, 53144, 0.30902830046665664],\n",
       "  'LC10': [7, 16137, 0.2683894156286794],\n",
       "  'LC11': [7, 17898, 0.3524416135881104],\n",
       "  'LC12': [7, 29726, 0.2677117674762834],\n",
       "  'LC13': [7, 20532, 0.601451392947594],\n",
       "  'LC14': [7, 34726, 0.21269365892990844],\n",
       "  'LC2': [7, 89744, 0.3792899803886611],\n",
       "  'LC3': [7, 21125, 0.34802366863905326],\n",
       "  'LC4': [7, 18190, 0.4704233095107202],\n",
       "  'LC5': [7, 27048, 0.5480257320319432],\n",
       "  'LC6': [7, 35979, 0.23802773840295727],\n",
       "  'LC7': [7, 33558, 0.2935812622921509],\n",
       "  'LC8': [7, 34680, 0.27975778546712804],\n",
       "  'LC9': [7, 17526, 0.6007645783407509],\n",
       "  'PS0': [7, 105908, 0.29023303244325266],\n",
       "  'PS1': [7, 122112, 0.5709758254716981],\n",
       "  'PS10': [7, 68926, 0.500232133012216],\n",
       "  'PS11': [7, 102258, 0.3701519685501379],\n",
       "  'PS12': [7, 86184, 0.4508841548315233],\n",
       "  'PS13': [7, 96668, 0.44500765506682666],\n",
       "  'PS14': [7, 120960, 0.3062417328042328],\n",
       "  'PS2': [7, 153090, 0.40577438108302305],\n",
       "  'PS3': [7, 54607, 0.5908216895269838],\n",
       "  'PS4': [7, 71205, 0.47646934906256583],\n",
       "  'PS5': [7, 79650, 0.5461770244821093],\n",
       "  'PS6': [7, 60099, 0.6282966438709463],\n",
       "  'PS7': [7, 46893, 0.6182799138464163],\n",
       "  'PS8': [7, 81263, 0.42772233365738405],\n",
       "  'PS9': [7, 89342, 0.4200711871236373]},\n",
       " 7: {'LC0': [8, 48552, 0.36490772779700115],\n",
       "  'LC1': [8, 58825, 0.4183085422864428],\n",
       "  'LC10': [8, 33000, 0.3526060606060606],\n",
       "  'LC11': [8, 49082, 0.29483313638401043],\n",
       "  'LC12': [8, 29054, 0.3297652646795622],\n",
       "  'LC13': [8, 21442, 0.2902247924633896],\n",
       "  'LC14': [8, 27900, 0.2775627240143369],\n",
       "  'LC2': [8, 31820, 0.483752357008171],\n",
       "  'LC3': [8, 29880, 0.3495314591700134],\n",
       "  'LC4': [8, 27225, 0.27970615243342517],\n",
       "  'LC5': [8, 23393, 0.3923395887658701],\n",
       "  'LC6': [8, 45120, 0.297052304964539],\n",
       "  'LC7': [8, 47762, 0.4088396633306813],\n",
       "  'LC8': [8, 41625, 0.3670870870870871],\n",
       "  'LC9': [8, 50176, 0.4641063456632653],\n",
       "  'PS0': [8, 94785, 0.46338555678641136],\n",
       "  'PS1': [8, 127050, 0.3559228650137741],\n",
       "  'PS10': [8, 100016, 0.3963865781474964],\n",
       "  'PS11': [8, 65148, 0.49795849450481977],\n",
       "  'PS12': [8, 103024, 0.44453719521664853],\n",
       "  'PS13': [8, 124887, 0.39522128003715357],\n",
       "  'PS14': [8, 103820, 0.4469659025235985],\n",
       "  'PS2': [8, 103766, 0.3296070003662086],\n",
       "  'PS3': [8, 102700, 0.49003894839337875],\n",
       "  'PS4': [8, 119716, 0.48416251795917004],\n",
       "  'PS5': [8, 71264, 0.5153513695554558],\n",
       "  'PS6': [8, 63798, 0.609157026866046],\n",
       "  'PS7': [8, 116610, 0.5071005917159763],\n",
       "  'PS8': [8, 110664, 0.44476071712571386],\n",
       "  'PS9': [8, 126368, 0.40052861483919977]},\n",
       " 8: {'LC0': [9, 64075, 0.31500585251658214],\n",
       "  'LC1': [9, 87246, 0.208410700777113],\n",
       "  'LC10': [9, 33540, 0.2554263565891473],\n",
       "  'LC11': [9, 22344, 0.40543322592194775],\n",
       "  'LC12': [9, 34595, 0.2854458736811678],\n",
       "  'LC13': [9, 24528, 0.6085697977821265],\n",
       "  'LC14': [9, 24003, 0.5277673624130317],\n",
       "  'LC2': [9, 84992, 0.28333254894578314],\n",
       "  'LC3': [9, 44278, 0.4551244410316636],\n",
       "  'LC4': [9, 34800, 0.34988505747126436],\n",
       "  'LC5': [9, 16422, 0.602545365972476],\n",
       "  'LC6': [9, 53088, 0.4275730861965039],\n",
       "  'LC7': [9, 37584, 0.34086313324819073],\n",
       "  'LC8': [9, 35442, 0.4143389199255121],\n",
       "  'LC9': [9, 35150, 0.33160739687055474],\n",
       "  'PS0': [9, 67032, 0.6040547798066596],\n",
       "  'PS1': [9, 103170, 0.343646408839779],\n",
       "  'PS10': [9, 74046, 0.38559814169570267],\n",
       "  'PS11': [9, 94582, 0.4113361950476835],\n",
       "  'PS12': [9, 100274, 0.3622973053832499],\n",
       "  'PS13': [9, 120802, 0.46418105660502307],\n",
       "  'PS14': [9, 123903, 0.3095970234780433],\n",
       "  'PS2': [9, 117624, 0.3912126776848262],\n",
       "  'PS3': [9, 97464, 0.34786177460395634],\n",
       "  'PS4': [9, 100161, 0.3679276365052266],\n",
       "  'PS5': [9, 105876, 0.5367883184102157],\n",
       "  'PS6': [9, 100724, 0.47699654501409794],\n",
       "  'PS7': [9, 79523, 0.4949259962526565],\n",
       "  'PS8': [9, 84802, 0.39299780665550343],\n",
       "  'PS9': [9, 79860, 0.4111695467067368]},\n",
       " 9: {'LC0': [10, 55615, 0.4616740088105727],\n",
       "  'LC1': [10, 52440, 0.326906941266209],\n",
       "  'LC10': [10, 41907, 0.47366788364712337],\n",
       "  'LC11': [10, 28899, 0.3762413924357244],\n",
       "  'LC12': [10, 28362, 0.37391580283477893],\n",
       "  'LC13': [10, 33908, 0.37878966615547954],\n",
       "  'LC14': [10, 30400, 0.43832236842105265],\n",
       "  'LC2': [10, 81144, 0.28868431430543234],\n",
       "  'LC3': [10, 51756, 0.40238812891258985],\n",
       "  'LC4': [10, 39744, 0.4260014090177134],\n",
       "  'LC5': [10, 38628, 0.4126540333436885],\n",
       "  'LC6': [10, 43078, 0.4541993593017317],\n",
       "  'LC7': [10, 36695, 0.4068129172911841],\n",
       "  'LC8': [10, 46665, 0.4064502303653702],\n",
       "  'LC9': [10, 42716, 0.4070371757655211],\n",
       "  'PS0': [10, 115388, 0.2639095919853018],\n",
       "  'PS1': [10, 100868, 0.37057342269104177],\n",
       "  'PS10': [10, 115840, 0.390728591160221],\n",
       "  'PS11': [10, 83700, 0.3036917562724014],\n",
       "  'PS12': [10, 105644, 0.32952179016318955],\n",
       "  'PS13': [10, 101268, 0.28143144922384167],\n",
       "  'PS14': [10, 94783, 0.2540856482702594],\n",
       "  'PS2': [10, 84500, 0.48449704142011835],\n",
       "  'PS3': [10, 106020, 0.39630258441803434],\n",
       "  'PS4': [10, 106477, 0.35932642730354913],\n",
       "  'PS5': [10, 100820, 0.34737155326324143],\n",
       "  'PS6': [10, 150136, 0.32795598657217456],\n",
       "  'PS7': [10, 87612, 0.3917614025475962],\n",
       "  'PS8': [10, 105740, 0.4363816909400416],\n",
       "  'PS9': [10, 94249, 0.5194750076923893]},\n",
       " 10: {'LC0': [11, 58729, 0.5362427420865331],\n",
       "  'LC1': [11, 45151, 0.34435560674182186],\n",
       "  'LC10': [11, 47965, 0.3699989575732305],\n",
       "  'LC11': [11, 32930, 0.47354995444883086],\n",
       "  'LC12': [11, 29160, 0.6297325102880659],\n",
       "  'LC13': [11, 33969, 0.454502634755218],\n",
       "  'LC14': [11, 33453, 0.5729530983768272],\n",
       "  'LC2': [11, 40996, 0.49714606303053954],\n",
       "  'LC3': [11, 31152, 0.3828004622496148],\n",
       "  'LC4': [11, 25200, 0.35353174603174603],\n",
       "  'LC5': [11, 35136, 0.5307661657559198],\n",
       "  'LC6': [11, 53400, 0.3802247191011236],\n",
       "  'LC7': [11, 32005, 0.4104983596313076],\n",
       "  'LC8': [11, 1, 0.0],\n",
       "  'LC9': [11, 49215, 0.31620440922482984],\n",
       "  'PS0': [11, 115381, 0.31655125193922745],\n",
       "  'PS1': [11, 91154, 0.46433508129100204],\n",
       "  'PS10': [11, 99333, 0.344195785891899],\n",
       "  'PS11': [11, 88536, 0.3037973253817656],\n",
       "  'PS12': [11, 94080, 0.4760948129251701],\n",
       "  'PS13': [11, 106750, 0.48708196721311475],\n",
       "  'PS14': [11, 90258, 0.3203261760730351],\n",
       "  'PS2': [11, 130670, 0.4375373077217418],\n",
       "  'PS3': [11, 58788, 0.63041777233449],\n",
       "  'PS4': [11, 78862, 0.38088052547488016],\n",
       "  'PS5': [11, 148800, 0.42338037634408604],\n",
       "  'PS6': [11, 97929, 0.27861001337703845],\n",
       "  'PS7': [11, 101565, 0.48805198641264214],\n",
       "  'PS8': [11, 101430, 0.3809129448881002],\n",
       "  'PS9': [11, 103929, 0.4586881428667648]},\n",
       " 11: {'LC0': [12, 62244, 0.2506747638326586],\n",
       "  'LC1': [12, 28704, 0.4900710702341137],\n",
       "  'LC10': [12, 45202, 0.38153179062873327],\n",
       "  'LC11': [12, 40145, 0.5582264291941711],\n",
       "  'LC12': [12, 33304, 0.5648270478020658],\n",
       "  'LC13': [12, 29785, 0.5051871747523922],\n",
       "  'LC14': [12, 33115, 0.35274044994715387],\n",
       "  'LC2': [12, 31920, 0.5130325814536341],\n",
       "  'LC3': [12, 40188, 0.3909873594107694],\n",
       "  'LC4': [12, 42630, 0.26293689889749006],\n",
       "  'LC5': [12, 47864, 0.32024068193214106],\n",
       "  'LC6': [12, 39159, 0.36144947521642534],\n",
       "  'LC7': [12, 37948, 0.39401285970275113],\n",
       "  'LC8': [12, 41818, 0.39179300779568604],\n",
       "  'LC9': [12, 48675, 0.42531073446327683],\n",
       "  'PS0': [12, 100812, 0.4254354640320597],\n",
       "  'PS1': [12, 123904, 0.4671197055785124],\n",
       "  'PS10': [12, 120870, 0.28439645900554317],\n",
       "  'PS11': [12, 142416, 0.37049207954162455],\n",
       "  'PS12': [12, 135610, 0.3640955681734385],\n",
       "  'PS13': [12, 112056, 0.31967944599129006],\n",
       "  'PS14': [12, 64528, 0.4847198115546739],\n",
       "  'PS2': [12, 114231, 0.2022130595022367],\n",
       "  'PS3': [12, 133210, 0.3913970422640943],\n",
       "  'PS4': [12, 88200, 0.35143990929705216],\n",
       "  'PS5': [12, 154054, 0.385066275461851],\n",
       "  'PS6': [12, 117888, 0.4615652144408252],\n",
       "  'PS7': [12, 109593, 0.3878806128128621],\n",
       "  'PS8': [12, 85400, 0.45453161592505853],\n",
       "  'PS9': [12, 123057, 0.41628676141950477]},\n",
       " 12: {'LC0': [13, 33075, 0.43531368102796675],\n",
       "  'LC1': [13, 34782, 0.40696337185900755],\n",
       "  'LC10': [13, 35295, 0.5853803654908627],\n",
       "  'LC11': [13, 34390, 0.532247746437918],\n",
       "  'LC12': [13, 32640, 0.5949142156862746],\n",
       "  'LC13': [13, 35442, 0.5069127024434287],\n",
       "  'LC14': [13, 33124, 0.4898261079579761],\n",
       "  'LC2': [13, 34189, 0.4077334815291468],\n",
       "  'LC3': [13, 30590, 0.34455704478587773],\n",
       "  'LC4': [13, 37014, 0.5036202517966175],\n",
       "  'LC5': [13, 42048, 0.3876759893455099],\n",
       "  'LC6': [13, 43920, 0.4676001821493625],\n",
       "  'LC7': [13, 40500, 0.4693333333333333],\n",
       "  'LC8': [13, 46698, 0.33198423915371106],\n",
       "  'LC9': [13, 34572, 0.45157931273863244],\n",
       "  'PS0': [13, 104880, 0.313339054157132],\n",
       "  'PS1': [13, 113022, 0.2712126842561625],\n",
       "  'PS10': [13, 116739, 0.27537498179700015],\n",
       "  'PS11': [13, 116909, 0.4149808825667827],\n",
       "  'PS12': [13, 81508, 0.43054669480296415],\n",
       "  'PS13': [13, 145728, 0.3180514382960035],\n",
       "  'PS14': [13, 93100, 0.40337271750805587],\n",
       "  'PS2': [13, 90785, 0.4236382662334086],\n",
       "  'PS3': [13, 124254, 0.40317414328713763],\n",
       "  'PS4': [13, 85228, 0.4086450462289388],\n",
       "  'PS5': [13, 133500, 0.3282696629213483],\n",
       "  'PS6': [13, 136836, 0.40791896869244937],\n",
       "  'PS7': [13, 140728, 0.28637513501222217],\n",
       "  'PS8': [13, 92829, 0.5690032209762036],\n",
       "  'PS9': [13, 139851, 0.3609055351767238]}}"
      ]
     },
     "execution_count": 76,
     "metadata": {},
     "output_type": "execute_result"
    }
   ],
   "source": [
    "images"
   ]
  },
  {
   "cell_type": "code",
   "execution_count": 51,
   "metadata": {
    "collapsed": true
   },
   "outputs": [],
   "source": [
    "import json"
   ]
  },
  {
   "cell_type": "code",
   "execution_count": 77,
   "metadata": {
    "collapsed": true
   },
   "outputs": [],
   "source": [
    "imageParameters = os.path.join(os.path.dirname(cwd), \"DATA\", \"imageParameters.json\")"
   ]
  },
  {
   "cell_type": "code",
   "execution_count": 78,
   "metadata": {
    "collapsed": true
   },
   "outputs": [],
   "source": [
    "with open(imageParameters, 'w') as f:\n",
    "            json.dump(images, f, sort_keys=True, indent=4)"
   ]
  },
  {
   "cell_type": "code",
   "execution_count": null,
   "metadata": {
    "collapsed": true
   },
   "outputs": [],
   "source": []
  }
 ],
 "metadata": {
  "kernelspec": {
   "display_name": "Python 2",
   "language": "python",
   "name": "python2"
  },
  "language_info": {
   "codemirror_mode": {
    "name": "ipython",
    "version": 2
   },
   "file_extension": ".py",
   "mimetype": "text/x-python",
   "name": "python",
   "nbconvert_exporter": "python",
   "pygments_lexer": "ipython2",
   "version": "2.7.11"
  }
 },
 "nbformat": 4,
 "nbformat_minor": 0
}
