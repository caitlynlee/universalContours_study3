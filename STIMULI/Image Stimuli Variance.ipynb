{
 "cells": [
  {
   "cell_type": "markdown",
   "metadata": {},
   "source": [
    "## Bounding box area versus corners\n",
    "Using OpenCV to do image processing and get the area of the bounding box. "
   ]
  },
  {
   "cell_type": "code",
   "execution_count": 3,
   "metadata": {
    "collapsed": true
   },
   "outputs": [],
   "source": [
    "%matplotlib inline\n",
    "import cv2\n",
    "import numpy as np\n",
    "import os\n",
    "from matplotlib import pyplot as plt\n",
    "import math\n",
    "from __future__ import division"
   ]
  },
  {
   "cell_type": "code",
   "execution_count": 105,
   "metadata": {
    "collapsed": false,
    "scrolled": true
   },
   "outputs": [],
   "source": [
    "def get_boundingBox(image_path, area=False, rotate=True):\n",
    "    # get the image\n",
    "    im_in = cv2.imread(image_path,0)\n",
    "\n",
    "    # Threshold.\n",
    "    # Set values equal to or above 220 to 0.\n",
    "    # Set values below 220 to 255.\n",
    "\n",
    "    th, im_th = cv2.threshold(im_in, 225, 255, cv2.THRESH_BINARY_INV);\n",
    "\n",
    "    # Copy the thresholded image.\n",
    "    im_floodfill = im_th.copy()\n",
    "\n",
    "    # Mask used to flood filling.\n",
    "    # Notice the size needs to be 2 pixels than the image.\n",
    "    h, w = im_th.shape[:2]\n",
    "    mask = np.zeros((h+2, w+2), np.uint8)\n",
    "\n",
    "    # Floodfill from point (0, 0)\n",
    "    cv2.floodFill(im_floodfill, mask, (0,0), 255);\n",
    "\n",
    "    # Invert floodfilled image\n",
    "    im_floodfill_inv = cv2.bitwise_not(im_floodfill)\n",
    "\n",
    "    # Combine the two images to get the foreground.\n",
    "    im_out = im_th | im_floodfill_inv\n",
    "\n",
    "    im_out, contours,hierarchy = cv2.findContours(im_out, 1, 2)\n",
    "    cnt = contours[0]\n",
    "    cntArea = cv2.contourArea(cnt)\n",
    "    \n",
    "    if rotate:\n",
    "        # Now get the bounding box\n",
    "        rect = cv2.minAreaRect(cnt)\n",
    "        box = cv2.boxPoints(rect)\n",
    "        box = np.int0(box)\n",
    "        if area:\n",
    "            return rect[1][0] * rect[1][1], int(cntArea)\n",
    "\n",
    "        return im_out, box\n",
    "   \n",
    "    else:\n",
    "        x,y,w,h = cv2.boundingRect(cnt)\n",
    "        box = np.array([[x,y],[x,y+h],[x+w, y+h],[x+w,y]])\n",
    "        \n",
    "        if area: \n",
    "            return w*h, int(cntArea)\n",
    "        \n",
    "        return im_out, box\n",
    "    "
   ]
  },
  {
   "cell_type": "markdown",
   "metadata": {},
   "source": [
    "### Testing\n",
    "Testing the bounding box function and printing it out, making sure that the box is correct"
   ]
  },
  {
   "cell_type": "code",
   "execution_count": 170,
   "metadata": {
    "collapsed": false
   },
   "outputs": [
    {
     "name": "stdout",
     "output_type": "stream",
     "text": [
      "0.461674008811\n"
     ]
    },
    {
     "data": {
      "image/png": "[encoded data removed]",
      "text/plain": [
       "<matplotlib.figure.Figure at 0x11413ebd0>"
      ]
     },
     "metadata": {},
     "output_type": "display_data"
    }
   ],
   "source": [
    "test_image = os.path.join(imageStimDir, str(10), \"LC\", \"LC1103.tif\")\n",
    "\n",
    "# running function\n",
    "test_box = get_boundingBox(test_image, area=False, rotate=False)\n",
    "\n",
    "# Show the output\n",
    "output = cv2.drawContours(test_box[0],[test_box[1]],0,(255,255,255),2)\n",
    "plt.imshow(output, cmap = 'gray')\n",
    "\n",
    "# Get the area\n",
    "test_box = get_boundingBox(test_image, area=True, rotate=False)\n",
    "print test_box[1]/test_box[0]"
   ]
  },
  {
   "cell_type": "markdown",
   "metadata": {},
   "source": [
    "## Comparing all images\n",
    "\n",
    "Now we can run on all the images, comparing the number of corners to the size of the rotated bounding box"
   ]
  },
  {
   "cell_type": "code",
   "execution_count": 217,
   "metadata": {
    "collapsed": true
   },
   "outputs": [],
   "source": [
    "cwd = os.getcwd()\n",
    "imageStimDir = os.path.join(cwd, \"stimuli_v1\", \"images\")"
   ]
  },
  {
   "cell_type": "code",
   "execution_count": 248,
   "metadata": {
    "collapsed": false,
    "scrolled": true
   },
   "outputs": [],
   "source": [
    "corners = []\n",
    "rotatedArea = []\n",
    "\n",
    "for numCorners in range(1,14):\n",
    "    LCDir = os.path.join(imageStimDir, str(numCorners), \"LC\")\n",
    "    PSDir = os.path.join(imageStimDir, str(numCorners), \"PS\")\n",
    "    \n",
    "    for imageFile in os.listdir(LCDir):\n",
    "        image_path = os.path.join(LCDir, imageFile)\n",
    "        \n",
    "        if imageFile == \".DS_Store\":\n",
    "            os.remove(image_path)\n",
    "            continue\n",
    "        \n",
    "        area = get_boundingBox(image_path, area=True)\n",
    "            \n",
    "        if area[0] <= 0:\n",
    "            continue\n",
    "            \n",
    "        corners.append(numCorners)\n",
    "        rotatedArea.append(area[0])\n",
    "\n",
    "    for imageFile in os.listdir(PSDir):\n",
    "        image_path = os.path.join(PSDir, imageFile)\n",
    "     \n",
    "        area = get_boundingBox(image_path, area=True)\n",
    "        if area[0] <= 0:\n",
    "            continue\n",
    "            \n",
    "        corners.append(numCorners)\n",
    "        rotatedArea.append(area[0])\n",
    "        \n",
    "    "
   ]
  },
  {
   "cell_type": "markdown",
   "metadata": {},
   "source": [
    "### Plotting \n",
    "Plotting corners versus bounding box area\n"
   ]
  },
  {
   "cell_type": "code",
   "execution_count": 249,
   "metadata": {
    "collapsed": false,
    "scrolled": true
   },
   "outputs": [
    {
     "data": {
      "text/plain": [
       "[<matplotlib.lines.Line2D at 0x115f1da10>]"
      ]
     },
     "execution_count": 249,
     "metadata": {},
     "output_type": "execute_result"
    },
    {
     "data": {
      "image/png": "[encoded data removed]",
      "text/plain": [
       "<matplotlib.figure.Figure at 0x115c79590>"
      ]
     },
     "metadata": {},
     "output_type": "display_data"
    }
   ],
   "source": [
    "plt.plot(corners, rotatedArea, 'ko')"
   ]
  },
  {
   "cell_type": "markdown",
   "metadata": {},
   "source": [
    "### Covariance matrix"
   ]
  },
  {
   "cell_type": "code",
   "execution_count": 250,
   "metadata": {
    "collapsed": false,
    "scrolled": false
   },
   "outputs": [],
   "source": [
    "rotated_data = np.array([corners, rotatedArea])"
   ]
  },
  {
   "cell_type": "code",
   "execution_count": 251,
   "metadata": {
    "collapsed": false
   },
   "outputs": [
    {
     "data": {
      "text/plain": [
       "array([[ 1.        ,  0.36333343],\n",
       "       [ 0.36333343,  1.        ]])"
      ]
     },
     "execution_count": 251,
     "metadata": {},
     "output_type": "execute_result"
    }
   ],
   "source": [
    "np.corrcoef(rotated_data)"
   ]
  },
  {
   "cell_type": "markdown",
   "metadata": {},
   "source": [
    "## Comparing with a straight bounding rectangle\n",
    "The rotated rectangle might not be giving us the actual representation that we want. The rotated rectangle is giving a rougher estimate of pure area, and not bounding box. Looking at straight bounding rectangle"
   ]
  },
  {
   "cell_type": "code",
   "execution_count": 265,
   "metadata": {
    "collapsed": false
   },
   "outputs": [],
   "source": [
    "corners = []\n",
    "boxArea = []\n",
    "\n",
    "for numCorners in range(1,14):\n",
    "    \n",
    "    \n",
    "    LCDir = os.path.join(imageStimDir, str(numCorners), \"LC\")\n",
    "    PSDir = os.path.join(imageStimDir, str(numCorners), \"PS\")\n",
    "    \n",
    "    for imageFile in os.listdir(LCDir):\n",
    "        image_path = os.path.join(LCDir, imageFile)\n",
    "        \n",
    "        if imageFile == \".DS_Store\":\n",
    "            os.remove(image_path)\n",
    "            continue\n",
    "        \n",
    "        area = get_boundingBox(image_path, area=True)\n",
    "        if area[0] <= 0:\n",
    "            continue\n",
    "        corners.append(numCorners)\n",
    "        boxArea.append(get_boundingBox(image_path, area=True, \n",
    "                                       rotate=False)[0])\n",
    "\n",
    "    for imageFile in os.listdir(PSDir):\n",
    "        image_path = os.path.join(PSDir, imageFile)\n",
    "        \n",
    "        area = get_boundingBox(image_path, area=True)\n",
    "        if area[0] <= 0:\n",
    "            continue\n",
    "        corners.append(numCorners)\n",
    "        boxArea.append(get_boundingBox(image_path, area=True, \n",
    "                                      rotate=False)[0])"
   ]
  },
  {
   "cell_type": "markdown",
   "metadata": {},
   "source": [
    "### Plotting \n",
    "Plotting corners versus bounding box area\n"
   ]
  },
  {
   "cell_type": "code",
   "execution_count": 266,
   "metadata": {
    "collapsed": false,
    "scrolled": true
   },
   "outputs": [
    {
     "data": {
      "text/plain": [
       "[<matplotlib.lines.Line2D at 0x11880f590>]"
      ]
     },
     "execution_count": 266,
     "metadata": {},
     "output_type": "execute_result"
    },
    {
     "data": {
      "image/png": "[encoded data removed]",
      "text/plain": [
       "<matplotlib.figure.Figure at 0x117458490>"
      ]
     },
     "metadata": {},
     "output_type": "display_data"
    }
   ],
   "source": [
    "plt.plot(corners, boxArea, 'ko')"
   ]
  },
  {
   "cell_type": "markdown",
   "metadata": {},
   "source": [
    "### Covariance matrix"
   ]
  },
  {
   "cell_type": "code",
   "execution_count": 267,
   "metadata": {
    "collapsed": false,
    "scrolled": false
   },
   "outputs": [],
   "source": [
    "boxData = np.array([corners, boxArea])"
   ]
  },
  {
   "cell_type": "code",
   "execution_count": 268,
   "metadata": {
    "collapsed": false
   },
   "outputs": [
    {
     "data": {
      "text/plain": [
       "array([[ 1.        ,  0.29949966],\n",
       "       [ 0.29949966,  1.        ]])"
      ]
     },
     "execution_count": 268,
     "metadata": {},
     "output_type": "execute_result"
    }
   ],
   "source": [
    "np.corrcoef(boxData)"
   ]
  },
  {
   "cell_type": "markdown",
   "metadata": {},
   "source": [
    "## Bounding box:Area of shape versus corners"
   ]
  },
  {
   "cell_type": "code",
   "execution_count": 269,
   "metadata": {
    "collapsed": false
   },
   "outputs": [],
   "source": [
    "corners = []\n",
    "areaRatio = []\n",
    "\n",
    "for numCorners in range(1,14):\n",
    "    \n",
    "    \n",
    "    LCDir = os.path.join(imageStimDir, str(numCorners), \"LC\")\n",
    "    PSDir = os.path.join(imageStimDir, str(numCorners), \"PS\")\n",
    "    \n",
    "    for imageFile in os.listdir(LCDir):\n",
    "        image_path = os.path.join(LCDir, imageFile)\n",
    "        \n",
    "        area = get_boundingBox(image_path, area=True, rotate=False)\n",
    "        if area[0] <= 0 or area[1] <= 0:\n",
    "            continue\n",
    "        corners.append(numCorners+1)\n",
    "        areaRatio.append(area[1]/area[0])\n",
    "\n",
    "    for imageFile in os.listdir(PSDir):\n",
    "        image_path = os.path.join(PSDir, imageFile)\n",
    "        \n",
    "        area = get_boundingBox(image_path, area=True, rotate=False)\n",
    "        if area[0] <= 0 or area[1] <= 0:\n",
    "            continue\n",
    "        corners.append(numCorners+1)\n",
    "        areaRatio.append(area[1]/area[0])\n"
   ]
  },
  {
   "cell_type": "markdown",
   "metadata": {},
   "source": [
    "### Plotting \n",
    "Plotting corners versus bounding box area\n"
   ]
  },
  {
   "cell_type": "code",
   "execution_count": 270,
   "metadata": {
    "collapsed": false,
    "scrolled": true
   },
   "outputs": [
    {
     "data": {
      "text/plain": [
       "[<matplotlib.lines.Line2D at 0x118964f50>]"
      ]
     },
     "execution_count": 270,
     "metadata": {},
     "output_type": "execute_result"
    },
    {
     "data": {
      "image/png": "[encoded data removed]",
      "text/plain": [
       "<matplotlib.figure.Figure at 0x115fbf210>"
      ]
     },
     "metadata": {},
     "output_type": "display_data"
    }
   ],
   "source": [
    "plt.plot(corners, areaRatio, 'ko')"
   ]
  },
  {
   "cell_type": "markdown",
   "metadata": {},
   "source": [
    "### Covariance matrix"
   ]
  },
  {
   "cell_type": "code",
   "execution_count": 271,
   "metadata": {
    "collapsed": false,
    "scrolled": false
   },
   "outputs": [],
   "source": [
    "ratioData = np.array([corners, areaRatio])"
   ]
  },
  {
   "cell_type": "code",
   "execution_count": 272,
   "metadata": {
    "collapsed": false
   },
   "outputs": [
    {
     "data": {
      "text/plain": [
       "array([[ 1.        , -0.17506294],\n",
       "       [-0.17506294,  1.        ]])"
      ]
     },
     "execution_count": 272,
     "metadata": {},
     "output_type": "execute_result"
    }
   ],
   "source": [
    "np.corrcoef(ratioData)"
   ]
  },
  {
   "cell_type": "markdown",
   "metadata": {
    "collapsed": true
   },
   "source": [
    "# Correlations"
   ]
  },
  {
   "cell_type": "code",
   "execution_count": 273,
   "metadata": {
    "collapsed": true
   },
   "outputs": [],
   "source": [
    "allData = np.array([corners, rotatedArea, boxArea, areaRatio])"
   ]
  },
  {
   "cell_type": "code",
   "execution_count": 274,
   "metadata": {
    "collapsed": false
   },
   "outputs": [
    {
     "data": {
      "text/plain": [
       "array([[ 1.        ,  0.36333343,  0.29949966, -0.17506294],\n",
       "       [ 0.36333343,  1.        ,  0.95677919,  0.04554186],\n",
       "       [ 0.29949966,  0.95677919,  1.        , -0.07118819],\n",
       "       [-0.17506294,  0.04554186, -0.07118819,  1.        ]])"
      ]
     },
     "execution_count": 274,
     "metadata": {},
     "output_type": "execute_result"
    }
   ],
   "source": [
    "np.corrcoef(allData)"
   ]
  }
 ],
 "metadata": {
  "kernelspec": {
   "display_name": "Python 2",
   "language": "python",
   "name": "python2"
  },
  "language_info": {
   "codemirror_mode": {
    "name": "ipython",
    "version": 2
   },
   "file_extension": ".py",
   "mimetype": "text/x-python",
   "name": "python",
   "nbconvert_exporter": "python",
   "pygments_lexer": "ipython2",
   "version": "2.7.11"
  }
 },
 "nbformat": 4,
 "nbformat_minor": 0
}
