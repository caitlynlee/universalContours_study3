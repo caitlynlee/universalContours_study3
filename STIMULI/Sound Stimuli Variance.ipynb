{
 "cells": [
  {
   "cell_type": "markdown",
   "metadata": {},
   "source": [
    "## Spectral centroid versus duration\n",
    "The duration of the sound clips ranges from 0.5 sec to 3.65 sec. "
   ]
  },
  {
   "cell_type": "code",
   "execution_count": 52,
   "metadata": {
    "collapsed": true
   },
   "outputs": [],
   "source": [
    "sounds = {}"
   ]
  },
  {
   "cell_type": "code",
   "execution_count": 53,
   "metadata": {
    "collapsed": true
   },
   "outputs": [],
   "source": [
    "for zscore in range(13):\n",
    "    sounds[zscore] = {}\n",
    "    \n",
    "    types = [\"LFO\", \"ROS\", \"SAW\"]\n",
    "    for method in types: \n",
    "        for num in range(10):\n",
    "            name = method + str(num)\n",
    "            \n",
    "            sounds[zscore][name] = []"
   ]
  },
  {
   "cell_type": "markdown",
   "metadata": {},
   "source": [
    "___\n",
    "** SC, duration, numOnsets, strength onsets **"
   ]
  },
  {
   "cell_type": "code",
   "execution_count": 10,
   "metadata": {
    "collapsed": true
   },
   "outputs": [],
   "source": [
    "%matplotlib inline\n",
    "import cv2\n",
    "import numpy as np\n",
    "import os\n",
    "from matplotlib import pyplot as plt\n",
    "import math\n",
    "from __future__ import division"
   ]
  },
  {
   "cell_type": "code",
   "execution_count": 11,
   "metadata": {
    "collapsed": false
   },
   "outputs": [],
   "source": [
    "import wave\n",
    "import contextlib\n",
    "import spectral_centroid as scentroid"
   ]
  },
  {
   "cell_type": "code",
   "execution_count": 12,
   "metadata": {
    "collapsed": true
   },
   "outputs": [],
   "source": [
    "from scipy.signal import hilbert"
   ]
  },
  {
   "cell_type": "code",
   "execution_count": 13,
   "metadata": {
    "collapsed": false
   },
   "outputs": [],
   "source": [
    "from scipy.io import wavfile\n",
    "from librosa import onset"
   ]
  },
  {
   "cell_type": "markdown",
   "metadata": {},
   "source": [
    "### Getting information on all the sounds\n",
    "\n",
    "Getting the mean spectral centroid of each of the sound files and the length of each sound"
   ]
  },
  {
   "cell_type": "code",
   "execution_count": 15,
   "metadata": {
    "collapsed": false
   },
   "outputs": [],
   "source": [
    "cwd = os.getcwd()"
   ]
  },
  {
   "cell_type": "code",
   "execution_count": 54,
   "metadata": {
    "collapsed": false
   },
   "outputs": [],
   "source": [
    "sc = []\n",
    "dur = []"
   ]
  },
  {
   "cell_type": "code",
   "execution_count": 55,
   "metadata": {
    "collapsed": false,
    "scrolled": false
   },
   "outputs": [
    {
     "name": "stdout",
     "output_type": "stream",
     "text": [
      "0\n",
      "1\n",
      "2\n",
      "3\n",
      "4\n",
      "5\n",
      "6\n",
      "7\n",
      "8\n",
      "9\n",
      "10\n",
      "11\n",
      "12\n"
     ]
    }
   ],
   "source": [
    "for i in range(13):\n",
    "    sc_dir = os.path.join(cwd, \"sounds\", str(i))\n",
    "    print i\n",
    "\n",
    "    for method in os.listdir(sc_dir):\n",
    "        sound_method = os.path.join(sc_dir, method)\n",
    "        \n",
    "        if method == \".DS_Store\":\n",
    "            os.remove(sound_method)\n",
    "            continue\n",
    "            \n",
    "        for num in range(10):\n",
    "            sound_file = os.path.join(sound_method, method + str(num))\n",
    "            \n",
    "            if sound_file == \".DS_Store\" + str(num):\n",
    "                os.remove(os.path.join(sound_method, \".DS_Store\"))\n",
    "                continue\n",
    "            \n",
    "            spec = scentroid.mean_sc_for_file(sound_file)\n",
    "            with contextlib.closing(wave.open(sound_file,'r')) as f:\n",
    "                frames = f.getnframes()\n",
    "                rate = f.getframerate()\n",
    "                duration = frames / float(rate)\n",
    "\n",
    "                \n",
    "            sounds[i][method + str(num)].append(spec)\n",
    "            sounds[i][method + str(num)].append(duration)\n",
    "            \n",
    "            dur.append(duration)\n",
    "            sc.append(spec)"
   ]
  },
  {
   "cell_type": "markdown",
   "metadata": {},
   "source": [
    "### Plotting\n",
    "\n",
    "Plotting spectral centroid versus sound duration"
   ]
  },
  {
   "cell_type": "code",
   "execution_count": 56,
   "metadata": {
    "collapsed": false,
    "scrolled": false
   },
   "outputs": [
    {
     "data": {
      "text/plain": [
       "[<matplotlib.lines.Line2D at 0x119c36bd0>]"
      ]
     },
     "execution_count": 56,
     "metadata": {},
     "output_type": "execute_result"
    },
    {
     "data": {
      "image/png": "[encoded data removed]",
      "text/plain": [
       "<matplotlib.figure.Figure at 0x118103b90>"
      ]
     },
     "metadata": {},
     "output_type": "display_data"
    }
   ],
   "source": [
    "plt.plot(sc, dur, 'ko')"
   ]
  },
  {
   "cell_type": "markdown",
   "metadata": {},
   "source": [
    "### Covariance matrix"
   ]
  },
  {
   "cell_type": "code",
   "execution_count": 57,
   "metadata": {
    "collapsed": true
   },
   "outputs": [],
   "source": [
    "cov_data = np.array([sc, dur])"
   ]
  },
  {
   "cell_type": "code",
   "execution_count": 58,
   "metadata": {
    "collapsed": false
   },
   "outputs": [
    {
     "data": {
      "text/plain": [
       "array([[  1.00000000e+00,  -7.23000596e-04],\n",
       "       [ -7.23000596e-04,   1.00000000e+00]])"
      ]
     },
     "execution_count": 58,
     "metadata": {},
     "output_type": "execute_result"
    }
   ],
   "source": [
    "np.corrcoef(cov_data)"
   ]
  },
  {
   "cell_type": "markdown",
   "metadata": {},
   "source": [
    "## Spectral centroid versus amplitude envelope"
   ]
  },
  {
   "cell_type": "code",
   "execution_count": 59,
   "metadata": {
    "collapsed": true
   },
   "outputs": [],
   "source": [
    "num_onsets = []\n",
    "onset_strength = []"
   ]
  },
  {
   "cell_type": "code",
   "execution_count": 60,
   "metadata": {
    "collapsed": false
   },
   "outputs": [
    {
     "name": "stdout",
     "output_type": "stream",
     "text": [
      "0\n",
      "1\n",
      "2\n",
      "3\n",
      "4\n",
      "5\n",
      "6\n",
      "7\n",
      "8\n",
      "9\n",
      "10\n",
      "11\n",
      "12\n",
      "390\n",
      "390\n"
     ]
    }
   ],
   "source": [
    "for i in range(13):\n",
    "    sc_dir = os.path.join(cwd, \"sounds\", str(i))\n",
    "    print i\n",
    "\n",
    "    for method in os.listdir(sc_dir):\n",
    "        sound_method = os.path.join(sc_dir, method)\n",
    "        \n",
    "        if method == \".DS_Store\":\n",
    "            os.remove(sound_method)\n",
    "            continue\n",
    "            \n",
    "        for num in range(10):\n",
    "            sound_file = os.path.join(sound_method, method + str(num))\n",
    "            \n",
    "            if sound_file == \".DS_Store\" + str(num):\n",
    "                os.remove(os.path.join(sound_method, \".DS_Store\"))\n",
    "                continue\n",
    "            \n",
    "            audio_ts = wavfile.read(sound_file)\n",
    "\n",
    "            onset_data = onset.onset_detect(audio_ts[1], audio_ts[0])\n",
    "            mean_strength = np.mean(onset.onset_strength(audio_ts[1], \n",
    "                                                          audio_ts[0]))\n",
    "\n",
    "            \n",
    "            \n",
    "            sounds[i][method + str(num)].append(len(onset_data))\n",
    "            sounds[i][method + str(num)].append(mean_strength)\n",
    "            \n",
    "            num_onsets.append(len(onset_data))\n",
    "            onset_strength.append(mean_strength)\n",
    "            \n",
    "print len(num_onsets)\n",
    "print (len(sc))\n",
    "        "
   ]
  },
  {
   "cell_type": "markdown",
   "metadata": {},
   "source": [
    "### Plotting\n",
    "\n",
    "**Spectral centroid versus number of onsets**"
   ]
  },
  {
   "cell_type": "code",
   "execution_count": 61,
   "metadata": {
    "collapsed": false,
    "scrolled": false
   },
   "outputs": [
    {
     "data": {
      "text/plain": [
       "[<matplotlib.lines.Line2D at 0x118be0950>]"
      ]
     },
     "execution_count": 61,
     "metadata": {},
     "output_type": "execute_result"
    },
    {
     "data": {
      "image/png": "[encoded data removed]",
      "text/plain": [
       "<matplotlib.figure.Figure at 0x11859dbd0>"
      ]
     },
     "metadata": {},
     "output_type": "display_data"
    }
   ],
   "source": [
    "plt.plot(sc, num_onsets, 'ko')"
   ]
  },
  {
   "cell_type": "markdown",
   "metadata": {},
   "source": [
    "**Spectral centroid versus mean onset strength**"
   ]
  },
  {
   "cell_type": "code",
   "execution_count": 62,
   "metadata": {
    "collapsed": false,
    "scrolled": true
   },
   "outputs": [
    {
     "data": {
      "text/plain": [
       "[<matplotlib.lines.Line2D at 0x11a025d90>]"
      ]
     },
     "execution_count": 62,
     "metadata": {},
     "output_type": "execute_result"
    },
    {
     "data": {
      "image/png": "[encoded data removed]",
      "text/plain": [
       "<matplotlib.figure.Figure at 0x118ba43d0>"
      ]
     },
     "metadata": {},
     "output_type": "display_data"
    }
   ],
   "source": [
    "plt.plot(sc, onset_strength, 'ro')"
   ]
  },
  {
   "cell_type": "markdown",
   "metadata": {},
   "source": [
    "### Covariance matrix\n",
    "\n",
    "Spectral centroid vs number of onsets vs mean onset strength"
   ]
  },
  {
   "cell_type": "code",
   "execution_count": 63,
   "metadata": {
    "collapsed": true
   },
   "outputs": [],
   "source": [
    "cov_data = np.array([sc, dur, num_onsets, onset_strength])"
   ]
  },
  {
   "cell_type": "code",
   "execution_count": 64,
   "metadata": {
    "collapsed": false
   },
   "outputs": [
    {
     "data": {
      "text/plain": [
       "array([[  1.00000000e+00,  -7.23000596e-04,  -7.39016953e-02,\n",
       "          2.58281914e-01],\n",
       "       [ -7.23000596e-04,   1.00000000e+00,   6.69086174e-01,\n",
       "         -4.94550201e-02],\n",
       "       [ -7.39016953e-02,   6.69086174e-01,   1.00000000e+00,\n",
       "          1.30895496e-01],\n",
       "       [  2.58281914e-01,  -4.94550201e-02,   1.30895496e-01,\n",
       "          1.00000000e+00]])"
      ]
     },
     "execution_count": 64,
     "metadata": {},
     "output_type": "execute_result"
    }
   ],
   "source": [
    "np.corrcoef(cov_data)"
   ]
  },
  {
   "cell_type": "code",
   "execution_count": 65,
   "metadata": {
    "collapsed": false
   },
   "outputs": [
    {
     "data": {
      "text/plain": [
       "{0: {'LFO0': [118.31471793472467, 0.5050340136054422, 7, 0.43590330515654702],\n",
       "  'LFO1': [127.6833617745268, 0.8533333333333334, 10, 0.25357525601614667],\n",
       "  'LFO2': [98.003414785287262, 1.2016326530612245, 16, 0.20522954368029098],\n",
       "  'LFO3': [130.86630908606551, 1.555736961451247, 24, 0.31676384717006717],\n",
       "  'LFO4': [68.997521706789797, 1.9040362811791383, 35, 0.52137106254580423],\n",
       "  'LFO5': [137.77851939775735, 2.2523356009070294, 43, 0.47224941749692428],\n",
       "  'LFO6': [70.423882235640249, 2.6006349206349206, 44, 0.18872133173717673],\n",
       "  'LFO7': [112.37223862061572, 2.9547392290249435, 51, 0.37227536993390198],\n",
       "  'LFO8': [65.891719637645181, 3.3030385487528346, 62, 0.43048532060211342],\n",
       "  'LFO9': [146.21378662608979, 3.651337868480726, 74, 0.59793496889685072],\n",
       "  'ROS0': [131.91109878048493, 0.5050340136054422, 9, 0.68022683062547018],\n",
       "  'ROS1': [148.61437640516166, 0.8533333333333334, 14, 0.63028378008278718],\n",
       "  'ROS2': [130.59353080189544, 1.2016326530612245, 21, 0.65203529753463685],\n",
       "  'ROS3': [133.22997617847889, 1.555736961451247, 24, 0.56566824309928798],\n",
       "  'ROS4': [149.44312904109819, 1.9040362811791383, 29, 0.6352267867294582],\n",
       "  'ROS5': [73.035876221325196, 2.2523356009070294, 38, 0.37988644106483355],\n",
       "  'ROS6': [111.34000127473281, 2.6006349206349206, 36, 0.5916588361918117],\n",
       "  'ROS7': [51.211695853095122, 2.9547392290249435, 45, 0.29995638432946831],\n",
       "  'ROS8': [134.68628937010914, 3.3030385487528346, 55, 0.65504455260191274],\n",
       "  'ROS9': [129.37565399573279, 3.651337868480726, 58, 0.69002364241939074],\n",
       "  'SAW0': [97.311558433425247, 0.5050340136054422, 5, 0.094638961605408356],\n",
       "  'SAW1': [118.84005023195967, 0.8533333333333334, 20, 0.35673894043558374],\n",
       "  'SAW2': [71.071049292667496, 1.2016326530612245, 7, 0.1096887258936088],\n",
       "  'SAW3': [132.37616001981857, 1.555736961451247, 13, 0.59167955366783265],\n",
       "  'SAW4': [147.28109816262065, 1.9040362811791383, 30, 0.056363671144135465],\n",
       "  'SAW5': [47.346154387647104, 2.2523356009070294, 9, 0.12479036738157223],\n",
       "  'SAW6': [62.484106148498554, 2.6006349206349206, 37, 0.22706570520787339],\n",
       "  'SAW7': [30.3286078368366, 2.9547392290249435, 12, 0.087327362883925827],\n",
       "  'SAW8': [49.722766216453479, 3.3030385487528346, 29, 0.11827551064563069],\n",
       "  'SAW9': [126.64057381726651, 3.651337868480726, 61, 0.96997346561236986]},\n",
       " 1: {'LFO0': [176.72136712035046, 0.5050340136054422, 8, 0.69391270807718797],\n",
       "  'LFO1': [263.53292905806859, 0.8533333333333334, 12, 1.0764390796332834],\n",
       "  'LFO2': [178.73892625357601, 1.2016326530612245, 11, 0.6004175880667888],\n",
       "  'LFO3': [156.02073697681843, 1.555736961451247, 26, 0.49155811236560826],\n",
       "  'LFO4': [166.72095572058097, 1.9040362811791383, 27, 0.4857935581981318],\n",
       "  'LFO5': [169.81383324663443, 2.2523356009070294, 40, 0.72656131403818258],\n",
       "  'LFO6': [172.52745089228185, 2.6006349206349206, 51, 0.74856112668183961],\n",
       "  'LFO7': [170.89762937692061, 2.9547392290249435, 37, 0.61558058909277036],\n",
       "  'LFO8': [298.06677063545436, 3.3030385487528346, 41, 1.4894058735105744],\n",
       "  'LFO9': [228.63193585252623, 3.651337868480726, 60, 0.55181226669224126],\n",
       "  'ROS0': [292.68310223480898, 0.5050340136054422, 8, 1.1064535566993561],\n",
       "  'ROS1': [240.67516858154704, 0.8533333333333334, 14, 0.68093300860365158],\n",
       "  'ROS2': [219.25723989066822, 1.2016326530612245, 20, 0.84292498494141277],\n",
       "  'ROS3': [276.43318080631758, 1.555736961451247, 23, 0.76882274228585634],\n",
       "  'ROS4': [294.6926205181237, 1.9040362811791383, 34, 0.96947424073397603],\n",
       "  'ROS5': [167.91302929316109, 2.2523356009070294, 37, 0.8174969696522274],\n",
       "  'ROS6': [177.47895106820593, 2.6006349206349206, 37, 0.6738469372619631],\n",
       "  'ROS7': [276.42613186589352, 2.9547392290249435, 48, 0.79463962273401723],\n",
       "  'ROS8': [238.94028721622968, 3.3030385487528346, 56, 0.83627293359090638],\n",
       "  'ROS9': [263.16658470054807, 3.651337868480726, 59, 0.87882075140159621],\n",
       "  'SAW0': [253.7296110838833, 0.5050340136054422, 2, 0.0046444254158970709],\n",
       "  'SAW1': [152.54341100781468, 0.8533333333333334, 23, 0.37761934871574088],\n",
       "  'SAW2': [242.56256020449857, 1.2016326530612245, 27, 0.034397455308725226],\n",
       "  'SAW3': [288.21465379512648, 1.555736961451247, 1, 0.0013198206279379093],\n",
       "  'SAW4': [287.13349102521403, 1.9040362811791383, 1, 0.0012456514825995389],\n",
       "  'SAW5': [210.76032333620549, 2.2523356009070294, 60, 0.82759613253037534],\n",
       "  'SAW6': [176.10869093579643, 2.6006349206349206, 68, 0.49132601949494958],\n",
       "  'SAW7': [220.81801006884638, 2.9547392290249435, 49, 0.032142428542010201],\n",
       "  'SAW8': [204.40407418419321, 3.3030385487528346, 39, 0.16380226322471547],\n",
       "  'SAW9': [215.17713459283189, 3.651337868480726, 40, 0.033606646494226185]},\n",
       " 2: {'LFO0': [388.94306160630111, 0.5050340136054422, 6, 0.99194736793344906],\n",
       "  'LFO1': [377.28064316149988, 0.8533333333333334, 16, 1.2782101449248764],\n",
       "  'LFO2': [438.87063218536633, 1.2016326530612245, 18, 0.77580150737853493],\n",
       "  'LFO3': [407.2930056370526, 1.555736961451247, 21, 1.1297467262176888],\n",
       "  'LFO4': [307.46048341504934, 1.9040362811791383, 25, 1.3676273413513544],\n",
       "  'LFO5': [353.27479111741371, 2.2523356009070294, 41, 0.82281537627518475],\n",
       "  'LFO6': [447.16451881598442, 2.6006349206349206, 41, 0.84520006431276051],\n",
       "  'LFO7': [388.27264227257547, 2.9547392290249435, 48, 0.57750324813560994],\n",
       "  'LFO8': [348.16967018136046, 3.3030385487528346, 51, 1.2030641266862481],\n",
       "  'LFO9': [448.8543308896821, 3.651337868480726, 46, 0.87052594950951334],\n",
       "  'ROS0': [345.21116232259351, 0.5050340136054422, 6, 0.93720614510697964],\n",
       "  'ROS1': [333.68543999823157, 0.8533333333333334, 17, 1.0546677504653281],\n",
       "  'ROS2': [373.56678610494782, 1.2016326530612245, 19, 0.98120291971954177],\n",
       "  'ROS3': [389.55319002993815, 1.555736961451247, 20, 0.86447450294064021],\n",
       "  'ROS4': [331.75186818510406, 1.9040362811791383, 34, 0.95770319351403432],\n",
       "  'ROS5': [438.33336271498331, 2.2523356009070294, 38, 0.96097207225000369],\n",
       "  'ROS6': [366.14417966603804, 2.6006349206349206, 40, 0.88181074664922132],\n",
       "  'ROS7': [359.50358077275723, 2.9547392290249435, 50, 0.95541833427807232],\n",
       "  'ROS8': [323.35240880270879, 3.3030385487528346, 53, 0.8615185257569854],\n",
       "  'ROS9': [426.52653242849175, 3.651337868480726, 54, 0.84856079121591033],\n",
       "  'SAW0': [422.0002545415071, 0.5050340136054422, 5, 0.057778881114696493],\n",
       "  'SAW1': [333.52231724520738, 0.8533333333333334, 1, 0.04843396131686941],\n",
       "  'SAW2': [406.31598927432862, 1.2016326530612245, 1, 0.011995614642257282],\n",
       "  'SAW3': [410.36960719224282, 1.555736961451247, 6, 0.024085428135395839],\n",
       "  'SAW4': [386.48094756204262, 1.9040362811791383, 32, 0.086145850748687455],\n",
       "  'SAW5': [376.61948530104945, 2.2523356009070294, 1, 0.034621121445329195],\n",
       "  'SAW6': [329.05733593647079, 2.6006349206349206, 1, 0.0085981233246585805],\n",
       "  'SAW7': [403.4471234757068, 2.9547392290249435, 50, 0.11723182914330735],\n",
       "  'SAW8': [412.54824833467745, 3.3030385487528346, 1, 0.032970344475557051],\n",
       "  'SAW9': [316.90980143929357, 3.651337868480726, 44, 0.46127699398822675]},\n",
       " 3: {'LFO0': [568.14390215692026, 0.5050340136054422, 9, 1.2782651783286199],\n",
       "  'LFO1': [460.07856600864699, 0.8533333333333334, 15, 0.97183711262863981],\n",
       "  'LFO2': [551.45885929755821, 1.2016326530612245, 19, 0.86801596296182026],\n",
       "  'LFO3': [557.47509320410416, 1.555736961451247, 26, 2.6037280663642219],\n",
       "  'LFO4': [534.25142213493768, 1.9040362811791383, 31, 1.1882954618747685],\n",
       "  'LFO5': [497.77369776258098, 2.2523356009070294, 33, 0.89501497685833664],\n",
       "  'LFO6': [460.27208785019224, 2.6006349206349206, 38, 1.6227924758286503],\n",
       "  'LFO7': [597.30309481141944, 2.9547392290249435, 47, 1.5258520027210278],\n",
       "  'LFO8': [458.73711311616722, 3.3030385487528346, 54, 1.4761567801038962],\n",
       "  'LFO9': [508.85738979416459, 3.651337868480726, 41, 0.88020179070859539],\n",
       "  'ROS0': [550.89505394618288, 0.5050340136054422, 9, 1.2141002205490776],\n",
       "  'ROS1': [514.86811516593139, 0.8533333333333334, 13, 0.94851769876129965],\n",
       "  'ROS2': [482.24499094380849, 1.2016326530612245, 9, 0.6654309749884828],\n",
       "  'ROS3': [452.72869650392556, 1.555736961451247, 19, 0.87036731298891967],\n",
       "  'ROS4': [589.28524403627716, 1.9040362811791383, 28, 0.8751050701547437],\n",
       "  'ROS5': [477.5280820513089, 2.2523356009070294, 37, 0.9539969037356385],\n",
       "  'ROS6': [475.15124012874287, 2.6006349206349206, 41, 1.0433331676384503],\n",
       "  'ROS7': [474.75043265188685, 2.9547392290249435, 40, 1.039838165858048],\n",
       "  'ROS8': [495.81807362267415, 3.3030385487528346, 47, 1.0048876407952081],\n",
       "  'ROS9': [511.48081495610808, 3.651337868480726, 44, 0.74300454643967917],\n",
       "  'SAW0': [585.34766853552958, 0.5050340136054422, 2, 0.051508456053005601],\n",
       "  'SAW1': [559.9469367442972, 0.8533333333333334, 1, 0.055441782031362526],\n",
       "  'SAW2': [579.00729925675569, 1.2016326530612245, 1, 0.18023301977201545],\n",
       "  'SAW3': [451.60063891049595, 1.555736961451247, 36, 0.07171572024496406],\n",
       "  'SAW4': [566.40926997904114, 1.9040362811791383, 1, 0.013395791307486426],\n",
       "  'SAW5': [541.85499275642439, 2.2523356009070294, 1, 0.041153185171071929],\n",
       "  'SAW6': [556.38474618763416, 2.6006349206349206, 1, 0.016299786960642264],\n",
       "  'SAW7': [549.83740381220616, 2.9547392290249435, 1, 0.023945627587828557],\n",
       "  'SAW8': [480.01045624454076, 3.3030385487528346, 31, 0.15160273044957914],\n",
       "  'SAW9': [494.18157178302943, 3.651337868480726, 84, 0.10084108583949009]},\n",
       " 4: {'LFO0': [661.28090765240415, 0.5050340136054422, 7, 0.78764059519487439],\n",
       "  'LFO1': [732.58887296671548, 0.8533333333333334, 11, 1.5570746561208804],\n",
       "  'LFO2': [618.06517362413581, 1.2016326530612245, 15, 1.202580153957832],\n",
       "  'LFO3': [669.60737569929631, 1.555736961451247, 24, 1.4282439084909955],\n",
       "  'LFO4': [673.07911290876768, 1.9040362811791383, 29, 1.4128043397567283],\n",
       "  'LFO5': [664.29535082198947, 2.2523356009070294, 35, 2.0681026905921867],\n",
       "  'LFO6': [719.03787515139118, 2.6006349206349206, 40, 1.7202264735106649],\n",
       "  'LFO7': [615.28138648330923, 2.9547392290249435, 38, 1.4007011624517198],\n",
       "  'LFO8': [727.80465037859381, 3.3030385487528346, 57, 1.2079478194987097],\n",
       "  'LFO9': [742.46307492604001, 3.651337868480726, 57, 1.4921307483517456],\n",
       "  'ROS0': [683.37369734101583, 0.5050340136054422, 5, 0.50960295150760049],\n",
       "  'ROS1': [729.81366006594703, 0.8533333333333334, 10, 0.79314057692023954],\n",
       "  'ROS2': [674.72694936393179, 1.2016326530612245, 20, 0.79390661014090891],\n",
       "  'ROS3': [740.64274458002376, 1.555736961451247, 26, 0.85094706710700097],\n",
       "  'ROS4': [644.90900639623771, 1.9040362811791383, 29, 0.8353168330576064],\n",
       "  'ROS5': [668.47479162903767, 2.2523356009070294, 41, 1.0186619515921937],\n",
       "  'ROS6': [726.40918908929143, 2.6006349206349206, 47, 1.144040175892906],\n",
       "  'ROS7': [739.90000156858798, 2.9547392290249435, 45, 0.85552636704377694],\n",
       "  'ROS8': [720.03610854126987, 3.3030385487528346, 57, 0.96242620733968087],\n",
       "  'ROS9': [714.87257416137174, 3.651337868480726, 53, 0.88947059986010157],\n",
       "  'SAW0': [720.10452157567158, 0.5050340136054422, 12, 0.16398733361572623],\n",
       "  'SAW1': [683.83916756968449, 0.8533333333333334, 1, 0.033179527854583689],\n",
       "  'SAW2': [640.55562173919805, 1.2016326530612245, 1, 0.043416372094876067],\n",
       "  'SAW3': [613.7967259867263, 1.555736961451247, 1, 0.098604739819582718],\n",
       "  'SAW4': [645.50445891832226, 1.9040362811791383, 19, 0.19027993434494853],\n",
       "  'SAW5': [680.69063574418908, 2.2523356009070294, 1, 0.034802589445738594],\n",
       "  'SAW6': [658.62110690596933, 2.6006349206349206, 60, 0.09764467818492728],\n",
       "  'SAW7': [701.19813179219534, 2.9547392290249435, 1, 0.034949215823144884],\n",
       "  'SAW8': [634.84360844661092, 3.3030385487528346, 1, 0.095638248937012324],\n",
       "  'SAW9': [607.03578432173401, 3.651337868480726, 1, 0.11362618205796962]},\n",
       " 5: {'LFO0': [756.70898671553698, 0.5050340136054422, 9, 1.3446171687555148],\n",
       "  'LFO1': [773.30841292239347, 0.8533333333333334, 13, 2.6704535501973701],\n",
       "  'LFO2': [881.78516776448419, 1.2016326530612245, 19, 1.2324194800861779],\n",
       "  'LFO3': [778.9531094168683, 1.555736961451247, 18, 1.4798318390653011],\n",
       "  'LFO4': [861.5962838955661, 1.9040362811791383, 27, 1.996751065155163],\n",
       "  'LFO5': [785.52510969934985, 2.2523356009070294, 42, 1.2981328603725057],\n",
       "  'LFO6': [836.27763616864524, 2.6006349206349206, 27, 0.92242757641165452],\n",
       "  'LFO7': [817.95637791918921, 2.9547392290249435, 36, 2.7031585985661439],\n",
       "  'LFO8': [864.67430114794593, 3.3030385487528346, 55, 1.8417068833137449],\n",
       "  'LFO9': [769.12956479414049, 3.651337868480726, 53, 2.0581651381470754],\n",
       "  'ROS0': [755.14132567011325, 0.5050340136054422, 8, 0.70525639376591853],\n",
       "  'ROS1': [774.11352207030495, 0.8533333333333334, 13, 1.0137447471294403],\n",
       "  'ROS2': [899.43891597560435, 1.2016326530612245, 29, 0.92963240102194744],\n",
       "  'ROS3': [759.29407047710504, 1.555736961451247, 32, 0.93705136142971923],\n",
       "  'ROS4': [877.2273004059698, 1.9040362811791383, 25, 0.68683502886154479],\n",
       "  'ROS5': [875.55414146770977, 2.2523356009070294, 26, 0.80008147062049562],\n",
       "  'ROS6': [791.98928916858233, 2.6006349206349206, 63, 1.0100164151328033],\n",
       "  'ROS7': [841.04698873532914, 2.9547392290249435, 53, 0.88140092489024358],\n",
       "  'ROS8': [798.18982601586686, 3.3030385487528346, 65, 1.0071922795675352],\n",
       "  'ROS9': [755.65231310932245, 3.651337868480726, 62, 0.9296196752061342],\n",
       "  'SAW0': [871.75564307443165, 0.5050340136054422, 10, 0.11999226804125061],\n",
       "  'SAW1': [821.60479121752951, 0.8533333333333334, 1, 0.037193540234523759],\n",
       "  'SAW2': [844.05967829219242, 1.2016326530612245, 23, 0.14087265729227935],\n",
       "  'SAW3': [790.23024782979769, 1.555736961451247, 5, 0.029398105130794244],\n",
       "  'SAW4': [840.84642767174341, 1.9040362811791383, 25, 0.21072408866057096],\n",
       "  'SAW5': [824.55718153842042, 2.2523356009070294, 1, 0.029431335439357775],\n",
       "  'SAW6': [844.76678009401985, 2.6006349206349206, 1, 0.013658330446910011],\n",
       "  'SAW7': [811.23313952086278, 2.9547392290249435, 1, 0.031285678326540764],\n",
       "  'SAW8': [799.76267131096404, 3.3030385487528346, 1, 0.042501202404539778],\n",
       "  'SAW9': [756.70850640780804, 3.651337868480726, 83, 0.20917426466340561]},\n",
       " 6: {'LFO0': [976.85087392593755, 0.5050340136054422, 7, 1.2281540567945888],\n",
       "  'LFO1': [1012.0665746320597, 0.8533333333333334, 12, 1.782887753977437],\n",
       "  'LFO2': [910.93392373797099, 1.2016326530612245, 17, 0.9696503687455702],\n",
       "  'LFO3': [1001.171741889927, 1.555736961451247, 24, 1.8532331794842603],\n",
       "  'LFO4': [900.42950027317113, 1.9040362811791383, 36, 1.5980864899744884],\n",
       "  'LFO5': [908.70449223641117, 2.2523356009070294, 37, 1.4399141564236497],\n",
       "  'LFO6': [1005.6559674561643, 2.6006349206349206, 41, 1.6903461453735529],\n",
       "  'LFO7': [928.65036883409653, 2.9547392290249435, 48, 2.7239271260442415],\n",
       "  'LFO8': [1003.9713968141709, 3.3030385487528346, 46, 2.0014513490296002],\n",
       "  'LFO9': [963.08426063610193, 3.651337868480726, 47, 1.9372716077841181],\n",
       "  'ROS0': [1014.0927720714436, 0.5050340136054422, 8, 0.77054128626545482],\n",
       "  'ROS1': [989.95212402217612, 0.8533333333333334, 11, 0.54374876801853911],\n",
       "  'ROS2': [953.05414181222488, 1.2016326530612245, 13, 0.38360442469809447],\n",
       "  'ROS3': [1022.0729955531971, 1.555736961451247, 13, 0.58504910085662143],\n",
       "  'ROS4': [971.06393081605688, 1.9040362811791383, 48, 0.82042376714939036],\n",
       "  'ROS5': [945.20497892261506, 2.2523356009070294, 46, 0.88684723422620881],\n",
       "  'ROS6': [983.5765850335747, 2.6006349206349206, 16, 0.51238347738061474],\n",
       "  'ROS7': [1026.6503234683589, 2.9547392290249435, 42, 0.66033121078536772],\n",
       "  'ROS8': [971.92202758096914, 3.3030385487528346, 46, 0.87695559979774196],\n",
       "  'ROS9': [936.66983871187472, 3.651337868480726, 35, 0.87174889003587497],\n",
       "  'SAW0': [1001.1352800767111, 0.5050340136054422, 7, 0.12078549047935594],\n",
       "  'SAW1': [926.63308433315717, 0.8533333333333334, 1, 0.015673390718519732],\n",
       "  'SAW2': [955.86328288460959, 1.2016326530612245, 1, 0.043254132780457387],\n",
       "  'SAW3': [950.16264704578407, 1.555736961451247, 27, 0.090265865620663563],\n",
       "  'SAW4': [941.49854880746022, 1.9040362811791383, 28, 0.1309548518328027],\n",
       "  'SAW5': [1038.0120272335744, 2.2523356009070294, 38, 0.10163483771809642],\n",
       "  'SAW6': [977.07209362867093, 2.6006349206349206, 1, 0.066228631248456113],\n",
       "  'SAW7': [935.28162013333485, 2.9547392290249435, 36, 0.21618023613117965],\n",
       "  'SAW8': [934.04947237449517, 3.3030385487528346, 1, 0.025557663439380342],\n",
       "  'SAW9': [957.12811713677843, 3.651337868480726, 1, 0.053495226351248759]},\n",
       " 7: {'LFO0': [1151.6059303237903, 0.5050340136054422, 6, 2.9216099590277809],\n",
       "  'LFO1': [1109.7962876739648, 0.8533333333333334, 14, 1.4649295717911295],\n",
       "  'LFO2': [1054.629027374719, 1.2016326530612245, 13, 0.93533034308289009],\n",
       "  'LFO3': [1112.0566957969215, 1.555736961451247, 27, 1.9487471835551391],\n",
       "  'LFO4': [1089.113447195733, 1.9040362811791383, 25, 1.1900355082606098],\n",
       "  'LFO5': [1123.139620596161, 2.2523356009070294, 36, 1.561157749519499],\n",
       "  'LFO6': [1102.0011994748043, 2.6006349206349206, 49, 1.2814475480595957],\n",
       "  'LFO7': [1175.1922192434881, 2.9547392290249435, 40, 1.4830861721433464],\n",
       "  'LFO8': [1088.2949682488763, 3.3030385487528346, 50, 1.4411845893363631],\n",
       "  'LFO9': [1191.5734937485665, 3.651337868480726, 60, 2.103511774843152],\n",
       "  'ROS0': [1159.858362449201, 0.5050340136054422, 5, 4.9458291807647177],\n",
       "  'ROS1': [1074.0270652241713, 0.8533333333333334, 8, 4.7794107995208925],\n",
       "  'ROS2': [1129.2224928341448, 1.2016326530612245, 12, 1.0146585860437431],\n",
       "  'ROS3': [1091.1311377309605, 1.555736961451247, 2, 0.20325779392559787],\n",
       "  'ROS4': [1106.4733308439056, 1.9040362811791383, 19, 0.98155096682262433],\n",
       "  'ROS5': [1140.965174442832, 2.2523356009070294, 6, 0.61796381039426895],\n",
       "  'ROS6': [1104.067518874062, 2.6006349206349206, 17, 0.82064804425414573],\n",
       "  'ROS7': [1055.2597944883025, 2.9547392290249435, 3, 0.17170671142346788],\n",
       "  'ROS8': [1074.7629048151839, 3.3030385487528346, 9, 0.27172959359131937],\n",
       "  'ROS9': [1121.0032903320639, 3.651337868480726, 3, 0.17073359259466692],\n",
       "  'SAW0': [1072.7699114853376, 0.5050340136054422, 11, 0.19805598189406801],\n",
       "  'SAW1': [1131.0965836067828, 0.8533333333333334, 1, 0.05584520725848658],\n",
       "  'SAW2': [1053.1346880759877, 1.2016326530612245, 10, 0.13004846655304711],\n",
       "  'SAW3': [1163.3222882750704, 1.555736961451247, 12, 0.082861227360208081],\n",
       "  'SAW4': [1084.14214355743, 1.9040362811791383, 13, 0.1075097754346888],\n",
       "  'SAW5': [1125.5825062287029, 2.2523356009070294, 1, 0.05956369600225337],\n",
       "  'SAW6': [1177.0096187857439, 2.6006349206349206, 44, 0.26373100912768094],\n",
       "  'SAW7': [1143.9294865363806, 2.9547392290249435, 57, 0.18288279881292988],\n",
       "  'SAW8': [1081.2531676969427, 3.3030385487528346, 1, 0.024802773026244052],\n",
       "  'SAW9': [1163.3486973017971, 3.651337868480726, 62, 0.11987568340444285]},\n",
       " 8: {'LFO0': [1253.728418778283, 0.5050340136054422, 10, 1.3344519880523213],\n",
       "  'LFO1': [1247.1462814420449, 0.8533333333333334, 14, 1.4928903276903775],\n",
       "  'LFO2': [1334.7293677926784, 1.2016326530612245, 10, 1.4041365093241713],\n",
       "  'LFO3': [1241.809547668576, 1.555736961451247, 14, 1.8609110988061248],\n",
       "  'LFO4': [1216.0586568923209, 1.9040362811791383, 34, 2.0618791226647613],\n",
       "  'LFO5': [1262.7337322358519, 2.2523356009070294, 38, 1.7173614004620281],\n",
       "  'LFO6': [1263.1195046725895, 2.6006349206349206, 38, 3.3230018161452657],\n",
       "  'LFO7': [1282.9120917155155, 2.9547392290249435, 44, 1.8534943369558459],\n",
       "  'LFO8': [1301.6995573502952, 3.3030385487528346, 52, 1.5723217751594165],\n",
       "  'LFO9': [1218.8780470813331, 3.651337868480726, 52, 3.0955930283244641],\n",
       "  'ROS0': [1259.9044364952285, 0.5050340136054422, 6, 1.6996364334142404],\n",
       "  'ROS1': [1307.1687145479384, 0.8533333333333334, 7, 1.651231594532018],\n",
       "  'ROS2': [1208.0350335953331, 1.2016326530612245, 16, 1.9003706323442613],\n",
       "  'ROS3': [1307.2610332126749, 1.555736961451247, 18, 1.5175825748442071],\n",
       "  'ROS4': [1229.0070845409111, 1.9040362811791383, 19, 1.9361738109301923],\n",
       "  'ROS5': [1329.5670646754181, 2.2523356009070294, 23, 1.2642393810639638],\n",
       "  'ROS6': [1286.0766812816851, 2.6006349206349206, 20, 1.4443510873258922],\n",
       "  'ROS7': [1202.1306195395782, 2.9547392290249435, 22, 1.4142601255807044],\n",
       "  'ROS8': [1343.2492120193785, 3.3030385487528346, 34, 1.1973119313224687],\n",
       "  'ROS9': [1268.0440074580833, 3.651337868480726, 50, 1.5283973778855895],\n",
       "  'SAW0': [1230.4029315568171, 0.5050340136054422, 1, 0.09334975902293835],\n",
       "  'SAW1': [1231.0935374200233, 0.8533333333333334, 17, 0.2268706656594543],\n",
       "  'SAW2': [1289.3635581054209, 1.2016326530612245, 18, 0.17426200627321795],\n",
       "  'SAW3': [1274.8270349998481, 1.555736961451247, 24, 0.19112968726782292],\n",
       "  'SAW4': [1228.8439221556348, 1.9040362811791383, 37, 0.15846502320331751],\n",
       "  'SAW5': [1245.9737317448096, 2.2523356009070294, 18, 0.12663813366968307],\n",
       "  'SAW6': [1223.2864604271711, 2.6006349206349206, 28, 0.17722139285160265],\n",
       "  'SAW7': [1333.151244060711, 2.9547392290249435, 36, 0.11054646587167484],\n",
       "  'SAW8': [1273.9493536713237, 3.3030385487528346, 36, 0.21265238416813709],\n",
       "  'SAW9': [1263.9740277079222, 3.651337868480726, 65, 0.1107054464358762]},\n",
       " 9: {'LFO0': [1415.7587770134232, 0.5050340136054422, 8, 1.2391295581884338],\n",
       "  'LFO1': [1422.726196380102, 0.8533333333333334, 15, 1.1791288059752358],\n",
       "  'LFO2': [1371.675588423039, 1.2016326530612245, 22, 1.5237951107865497],\n",
       "  'LFO3': [1393.2709271793187, 1.555736961451247, 27, 1.457518196275374],\n",
       "  'LFO4': [1385.4897975863755, 1.9040362811791383, 30, 1.9386463087064281],\n",
       "  'LFO5': [1496.632782827005, 2.2523356009070294, 34, 2.0216653062311556],\n",
       "  'LFO6': [1423.3407703785447, 2.6006349206349206, 39, 2.1440042126265642],\n",
       "  'LFO7': [1357.1162527973509, 2.9547392290249435, 38, 1.6893702433166915],\n",
       "  'LFO8': [1489.5932021426202, 3.3030385487528346, 54, 2.0113747199916019],\n",
       "  'LFO9': [1460.0553398546292, 3.651337868480726, 51, 1.9527902935844152],\n",
       "  'ROS0': [1372.4374323252864, 0.5050340136054422, 6, 2.0618050396665963],\n",
       "  'ROS1': [1412.7016816704286, 0.8533333333333334, 14, 1.9643207584640787],\n",
       "  'ROS2': [1443.3245935956877, 1.2016326530612245, 2, 0.36904813491869487],\n",
       "  'ROS3': [1373.6792215740068, 1.555736961451247, 7, 1.3326183505503753],\n",
       "  'ROS4': [1431.7714511541212, 1.9040362811791383, 21, 1.822125330308324],\n",
       "  'ROS5': [1393.6121573504365, 2.2523356009070294, 27, 2.0116322262935626],\n",
       "  'ROS6': [1459.2032190332325, 2.6006349206349206, 23, 1.2021798671835242],\n",
       "  'ROS7': [1396.3850654657263, 2.9547392290249435, 30, 1.6168264750097903],\n",
       "  'ROS8': [1400.9957275664726, 3.3030385487528346, 33, 1.8065639969153986],\n",
       "  'ROS9': [1365.2986520417019, 3.651337868480726, 40, 1.3617962833533985],\n",
       "  'SAW0': [1414.5439557535519, 0.5050340136054422, 12, 0.2287355524757996],\n",
       "  'SAW1': [1423.1378201793793, 0.8533333333333334, 18, 0.19026678255811694],\n",
       "  'SAW2': [1469.9600580042757, 1.2016326530612245, 16, 0.29456389050200349],\n",
       "  'SAW3': [1465.1488582495758, 1.555736961451247, 24, 0.16009446664719537],\n",
       "  'SAW4': [1485.8114347276035, 1.9040362811791383, 30, 0.19083826794650469],\n",
       "  'SAW5': [1494.0438093762698, 2.2523356009070294, 9, 0.22189926822775591],\n",
       "  'SAW6': [1444.9337950390616, 2.6006349206349206, 1, 0.050245835878835715],\n",
       "  'SAW7': [1370.8374555722758, 2.9547392290249435, 28, 0.23199258846519469],\n",
       "  'SAW8': [1472.512768369608, 3.3030385487528346, 67, 0.19340467090907784],\n",
       "  'SAW9': [1436.3308265704609, 3.651337868480726, 28, 0.06806245084563424]},\n",
       " 10: {'LFO0': [1572.2553484764553, 0.5050340136054422, 8, 1.3378557003915235],\n",
       "  'LFO1': [1551.4637243922107, 0.8533333333333334, 13, 1.0890268410616721],\n",
       "  'LFO2': [1634.3463778865118, 1.2016326530612245, 19, 1.4497939092278571],\n",
       "  'LFO3': [1552.1954245650145, 1.555736961451247, 30, 1.3949083802050688],\n",
       "  'LFO4': [1554.2896067336937, 1.9040362811791383, 34, 1.5900553014619974],\n",
       "  'LFO5': [1585.7266542994832, 2.2523356009070294, 30, 1.1524501056972274],\n",
       "  'LFO6': [1521.8024181141184, 2.6006349206349206, 40, 1.5668002390815681],\n",
       "  'LFO7': [1569.2861184514318, 2.9547392290249435, 52, 1.4228546444246359],\n",
       "  'LFO8': [1645.8821881199144, 3.3030385487528346, 43, 1.2259729723279529],\n",
       "  'LFO9': [1648.0640250370739, 3.651337868480726, 53, 1.7193272882018564],\n",
       "  'ROS0': [1645.4659504628673, 0.5050340136054422, 8, 3.2021581474916476],\n",
       "  'ROS1': [1564.6493906916842, 0.8533333333333334, 11, 2.8784825227103368],\n",
       "  'ROS2': [1615.6121408289198, 1.2016326530612245, 12, 1.6444753963029926],\n",
       "  'ROS3': [1521.7665776791243, 1.555736961451247, 18, 1.8956478941028105],\n",
       "  'ROS4': [1595.5816348207065, 1.9040362811791383, 16, 1.3387580580530554],\n",
       "  'ROS5': [1610.8798491048983, 2.2523356009070294, 20, 1.1653829384361234],\n",
       "  'ROS6': [1628.2467992949064, 2.6006349206349206, 24, 1.6038277247165091],\n",
       "  'ROS7': [1504.2465425336245, 2.9547392290249435, 21, 1.198444099548001],\n",
       "  'ROS8': [1622.9129665777543, 3.3030385487528346, 21, 1.292720063469972],\n",
       "  'ROS9': [1588.7255467367138, 3.651337868480726, 40, 2.2136625461294299],\n",
       "  'SAW0': [1572.7497340597765, 0.5050340136054422, 11, 0.20144514608910266],\n",
       "  'SAW1': [1562.1943407845947, 0.8533333333333334, 7, 0.10639326293386908],\n",
       "  'SAW2': [1628.1959794205134, 1.2016326530612245, 11, 0.23843405736535483],\n",
       "  'SAW3': [1599.5036124340609, 1.555736961451247, 8, 0.099707621633921689],\n",
       "  'SAW4': [1611.5367572224225, 1.9040362811791383, 19, 0.20404995785907781],\n",
       "  'SAW5': [1612.5509099365217, 2.2523356009070294, 1, 0.047085022463323356],\n",
       "  'SAW6': [1634.7098957353858, 3.6048979591836736, 57, 0.20205181865169219],\n",
       "  'SAW7': [1581.0034242956294, 3.0011791383219957, 28, 0.66097915361333726],\n",
       "  'SAW8': [1646.0196991227172, 3.0011791383219957, 36, 0.46545481869127275],\n",
       "  'SAW9': [1506.1457658734321, 3.0011791383219957, 35, 0.47509761481759116]},\n",
       " 11: {'LFO0': [1776.0724575533263, 0.5050340136054422, 7, 1.232334541517407],\n",
       "  'LFO1': [1774.479306315382, 0.8533333333333334, 13, 1.320115708008303],\n",
       "  'LFO2': [1654.9469645496799, 1.2016326530612245, 13, 2.7136856943056733],\n",
       "  'LFO3': [1729.9519726012147, 1.555736961451247, 25, 1.1745763634523709],\n",
       "  'LFO4': [1671.6341179958631, 1.9040362811791383, 28, 1.2939498471892004],\n",
       "  'LFO5': [1668.1878489148805, 2.2523356009070294, 35, 1.9838222759356225],\n",
       "  'LFO6': [1770.7663631646074, 2.6006349206349206, 38, 1.3048777968272851],\n",
       "  'LFO7': [1737.571134772061, 2.9547392290249435, 53, 1.2519328922374817],\n",
       "  'LFO8': [1722.6992990337844, 3.3030385487528346, 54, 1.301302395332983],\n",
       "  'LFO9': [1707.9941074550691, 3.651337868480726, 33, 1.1642509814718265],\n",
       "  'ROS0': [1726.1342176547382, 0.5050340136054422, 5, 2.2442716607383875],\n",
       "  'ROS1': [1793.5129215305087, 0.8533333333333334, 7, 1.8162275320689445],\n",
       "  'ROS2': [1753.5911094229864, 1.2016326530612245, 14, 1.4962187113352396],\n",
       "  'ROS3': [1796.0187327582687, 1.555736961451247, 14, 1.1670759297555855],\n",
       "  'ROS4': [1725.0645353608691, 1.9040362811791383, 18, 1.5379692660069375],\n",
       "  'ROS5': [1717.6962338780684, 2.2523356009070294, 19, 0.98949265645173357],\n",
       "  'ROS6': [1707.9244434471786, 2.6006349206349206, 30, 0.89999040888600024],\n",
       "  'ROS7': [1789.2465172623517, 2.9547392290249435, 23, 1.3421039331930897],\n",
       "  'ROS8': [1705.8400142073717, 3.3030385487528346, 20, 1.3657863206206564],\n",
       "  'ROS9': [1671.5071988986072, 3.651337868480726, 38, 1.8245073654022292],\n",
       "  'SAW0': [1686.3137096820915, 0.5050340136054422, 1, 0.095732824541329198],\n",
       "  'SAW1': [1719.2438553439479, 0.8533333333333334, 1, 0.044357861591557329],\n",
       "  'SAW2': [1719.0477110110012, 1.2016326530612245, 27, 0.13738356846641345],\n",
       "  'SAW3': [1783.7957612628411, 1.555736961451247, 26, 0.2202327075806593],\n",
       "  'SAW4': [1778.7235358192347, 1.9040362811791383, 39, 0.22044285977372505],\n",
       "  'SAW5': [1728.9942224644683, 2.2523356009070294, 16, 0.08320069269225322],\n",
       "  'SAW6': [1685.5361835245176, 2.6006349206349206, 65, 0.30231772930876383],\n",
       "  'SAW7': [1737.5683727047656, 2.9547392290249435, 28, 0.10927655065477899],\n",
       "  'SAW8': [1778.9528874283294, 3.3030385487528346, 68, 0.22134406437824708],\n",
       "  'SAW9': [1776.6009975235829, 3.651337868480726, 75, 0.22138719575921015]},\n",
       " 12: {'LFO0': [1890.0036290948005, 0.5050340136054422, 6, 2.4305963149903209],\n",
       "  'LFO1': [1801.3569645222722, 0.8533333333333334, 16, 1.0408007038834146],\n",
       "  'LFO2': [1802.4152300896408, 1.2016326530612245, 18, 2.689640658565386],\n",
       "  'LFO3': [1912.2786506871157, 1.555736961451247, 26, 1.3168930952007638],\n",
       "  'LFO4': [1885.0152219695483, 1.9040362811791383, 31, 1.2339115613401341],\n",
       "  'LFO5': [1921.0780918750154, 2.2523356009070294, 32, 1.2599499326704799],\n",
       "  'LFO6': [1826.9585118178816, 2.6006349206349206, 40, 1.4532797313287458],\n",
       "  'LFO7': [1834.1877793682897, 2.9547392290249435, 42, 1.2791454485686944],\n",
       "  'LFO8': [1927.9087256339699, 3.3030385487528346, 65, 1.2376831389997169],\n",
       "  'LFO9': [1934.0707403792678, 3.651337868480726, 56, 1.4093105777484614],\n",
       "  'ROS0': [1801.0677921855224, 0.5050340136054422, 7, 2.4930289746699521],\n",
       "  'ROS1': [1939.5643408938995, 0.8533333333333334, 8, 2.2442677723402005],\n",
       "  'ROS2': [1828.7572704122722, 1.2016326530612245, 5, 1.276015202328227],\n",
       "  'ROS3': [1817.5820669206093, 1.555736961451247, 15, 2.083996338343006],\n",
       "  'ROS4': [1931.6297288136459, 1.9040362811791383, 15, 0.49125398294886385],\n",
       "  'ROS5': [1902.2466200917765, 2.2523356009070294, 2, 0.51078482122395341],\n",
       "  'ROS6': [1907.6157094430248, 2.6006349206349206, 21, 1.2733356003310843],\n",
       "  'ROS7': [1804.8873383882249, 2.9547392290249435, 24, 1.2235633845007357],\n",
       "  'ROS8': [1800.5206355162102, 3.3030385487528346, 11, 0.99538324573461678],\n",
       "  'ROS9': [1927.723227266064, 3.651337868480726, 10, 0.3677539513131029],\n",
       "  'SAW0': [1866.3277046747958, 0.5050340136054422, 10, 0.12690765585225383],\n",
       "  'SAW1': [1938.7817476966156, 0.8533333333333334, 8, 0.27137853529839417],\n",
       "  'SAW2': [1823.2492749857354, 1.2016326530612245, 32, 0.23973553299548434],\n",
       "  'SAW3': [1923.1762650849339, 1.555736961451247, 1, 0.0038751812579851147],\n",
       "  'SAW4': [1868.1115197604331, 1.9040362811791383, 7, 0.045649000889826742],\n",
       "  'SAW5': [1920.8418705033287, 2.2523356009070294, 59, 0.2611570036786251],\n",
       "  'SAW6': [1881.0762396933417, 2.6006349206349206, 10, 0.044030927843136274],\n",
       "  'SAW7': [1881.7667147334757, 2.9547392290249435, 11, 0.043292099114901048],\n",
       "  'SAW8': [1840.9394576482048, 3.3030385487528346, 67, 0.16434660129348186],\n",
       "  'SAW9': [1831.9998192270559, 3.651337868480726, 78, 0.19625939752753099]}}"
      ]
     },
     "execution_count": 65,
     "metadata": {},
     "output_type": "execute_result"
    }
   ],
   "source": [
    "sounds"
   ]
  },
  {
   "cell_type": "code",
   "execution_count": 66,
   "metadata": {
    "collapsed": true
   },
   "outputs": [],
   "source": [
    "import json"
   ]
  },
  {
   "cell_type": "code",
   "execution_count": 68,
   "metadata": {
    "collapsed": true
   },
   "outputs": [],
   "source": [
    "soundParameters = os.path.join(os.path.dirname(cwd), \"DATA\", \"soundParameters.json\")"
   ]
  },
  {
   "cell_type": "code",
   "execution_count": 70,
   "metadata": {
    "collapsed": true
   },
   "outputs": [],
   "source": [
    "with open(soundParameters, 'w') as f:\n",
    "            json.dump(sounds, f, sort_keys=True, indent=4)"
   ]
  },
  {
   "cell_type": "code",
   "execution_count": null,
   "metadata": {
    "collapsed": true
   },
   "outputs": [],
   "source": []
  }
 ],
 "metadata": {
  "kernelspec": {
   "display_name": "Python 2",
   "language": "python",
   "name": "python2"
  },
  "language_info": {
   "codemirror_mode": {
    "name": "ipython",
    "version": 2
   },
   "file_extension": ".py",
   "mimetype": "text/x-python",
   "name": "python",
   "nbconvert_exporter": "python",
   "pygments_lexer": "ipython2",
   "version": "2.7.11"
  }
 },
 "nbformat": 4,
 "nbformat_minor": 0
}
