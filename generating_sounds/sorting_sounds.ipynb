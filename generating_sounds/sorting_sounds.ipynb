{
 "cells": [
  {
   "cell_type": "markdown",
   "metadata": {},
   "source": [
    "## Sorting sounds based on spectral centroid\n",
    "---\n",
    "\n",
    "Sounds were sorted into bins based on spectral centroid. 13 bins to reflect equal distribution of the range of spectral centroid: 0-1950. Bins of size 150: includes lower bound, does not include upper bound. Sounds are sorted but retain the information in the filename that specifies the specific generator that created the sound. \n",
    "\n",
    "---\n",
    "\n",
    "**import libraries**"
   ]
  },
  {
   "cell_type": "code",
   "execution_count": null,
   "metadata": {
    "collapsed": true
   },
   "outputs": [],
   "source": [
    "import spectral_centroid as sc\n",
    "import os\n",
    "import shutil\n",
    "import math"
   ]
  },
  {
   "cell_type": "markdown",
   "metadata": {},
   "source": [
    "Make the directories; bins of 150. (0-150,151-130,etc). Sounds will be placed in the directory less than or equal to bin label. Ex: sound with spectral centroid of 100 will be placed in bin 150. Spectral centroid of 150 placed in bin 300. \n",
    "\n",
    "*originally used size 100*"
   ]
  },
  {
   "cell_type": "code",
   "execution_count": null,
   "metadata": {
    "collapsed": true
   },
   "outputs": [],
   "source": [
    "for hundred in range (14,18):\n",
    "    directory = os.path.join(os.path.expanduser(\"~\"),\"Documents\", \"Dartmouth\", \"wheatlab\", \n",
    "                        \"universal_contours\", \"sorted_sounds\", str(hundred*150))\n",
    "    os.mkdir(directory)"
   ]
  },
  {
   "cell_type": "markdown",
   "metadata": {},
   "source": [
    "### LFO\n",
    "\n",
    "Sorting the first kind of sounds; moves the file and deletes the ones that don't get placed in a directory. Allows for specification of range of spectral centroids looking for. Sound have **no specific label** (just number)\n",
    "\n"
   ]
  },
  {
   "cell_type": "code",
   "execution_count": null,
   "metadata": {
    "collapsed": false,
    "scrolled": false
   },
   "outputs": [],
   "source": [
    "for i in range(100,122):\n",
    "    filename = os.path.join(os.path.expanduser(\"~\"),\"Documents\", \"Dartmouth\", \"wheatlab\", \n",
    "                        \"universal_contours\", \"sounds\", \"test2_\" + str(i)+ \".wav\")\n",
    "    \n",
    "    spec = sc.mean_sc_for_file(filename)\n",
    "    print spec\n",
    "    if spec > 0 and spec < 150:\n",
    "        dest_dir = 150 * (int(spec/150) + 1)\n",
    "        \n",
    "        print \"moving into: \" + str(dest_dir)\n",
    "\n",
    "        dest_file = os.path.join(os.path.expanduser(\"~\"),\"Documents\", \"Dartmouth\", \"wheatlab\", \n",
    "                            \"universal_contours\", \"sorted_sounds\", str(dest_dir), str(i) + \"_2.wav\")\n",
    "\n",
    "        shutil.move(filename, dest_file)\n",
    "        \n",
    "    else:\n",
    "        os.remove(filename)"
   ]
  },
  {
   "cell_type": "markdown",
   "metadata": {},
   "source": [
    "### SAW\n",
    "\n",
    "Sorting sounds generated with SAW waves; moving the file and deleting others. Allows you to specify the range of sounds that you are looking for. Sounds are labeled **SAW**"
   ]
  },
  {
   "cell_type": "code",
   "execution_count": null,
   "metadata": {
    "collapsed": false,
    "scrolled": false
   },
   "outputs": [],
   "source": [
    "for i in range(200,251):\n",
    "    filename = os.path.join(os.path.expanduser(\"~\"),\"Documents\", \"Dartmouth\", \"wheatlab\", \n",
    "                        \"universal_contours\", \"sounds\", \"SAW\" + str(i)+ \".wav\")\n",
    "    \n",
    "    spec = sc.mean_sc_for_file(filename)\n",
    "    print spec\n",
    "    if spec > 1800 and spec < 1950:\n",
    "        dest_dir = 150 * (int(spec/150) + 1)\n",
    "        \n",
    "        print \"moving into: \" + str(dest_dir)\n",
    "\n",
    "        dest_file = os.path.join(os.path.expanduser(\"~\"),\"Documents\", \"Dartmouth\", \"wheatlab\", \n",
    "                            \"universal_contours\", \"sorted_sounds\", str(dest_dir), \"SAW\" + str(i) + \".wav\")\n",
    "\n",
    "        shutil.move(filename, dest_file)\n",
    "        \n",
    "    else:\n",
    "        os.remove(filename)"
   ]
  },
  {
   "cell_type": "markdown",
   "metadata": {},
   "source": [
    "### ROS\n",
    "Sorting sounds generated with Rossler generator; moving the file and deleting others. Allows you to specify the range of sounds that you are looking for. Sounds are labeled **ROS**\n"
   ]
  },
  {
   "cell_type": "code",
   "execution_count": null,
   "metadata": {
    "collapsed": false,
    "scrolled": false
   },
   "outputs": [],
   "source": [
    "for i in range(200,226):\n",
    "    filename = os.path.join(os.path.expanduser(\"~\"),\"Documents\", \"Dartmouth\", \"wheatlab\", \n",
    "                        \"universal_contours\", \"sounds\", \"Ros\" + str(i)+ \".wav\")\n",
    "    \n",
    "    spec = sc.mean_sc_for_file(filename)\n",
    "    if spec > 1650 and spec < 1800:\n",
    "        dest_dir = 150 * (int(spec/150) + 1)\n",
    "        \n",
    "        print \"moving into: \" + str(dest_dir)\n",
    "\n",
    "        dest_file = os.path.join(os.path.expanduser(\"~\"),\"Documents\", \"Dartmouth\", \"wheatlab\", \n",
    "                            \"universal_contours\", \"sorted_sounds\", str(dest_dir), \"Ros\" + str(i) + \".wav\")\n",
    "\n",
    "        shutil.move(filename, dest_file)\n",
    "        \n",
    "    else:\n",
    "        os.remove(filename)"
   ]
  }
 ],
 "metadata": {
  "kernelspec": {
   "display_name": "Python 2",
   "language": "python",
   "name": "python2"
  },
  "language_info": {
   "codemirror_mode": {
    "name": "ipython",
    "version": 2
   },
   "file_extension": ".py",
   "mimetype": "text/x-python",
   "name": "python",
   "nbconvert_exporter": "python",
   "pygments_lexer": "ipython2",
   "version": "2.7.11"
  }
 },
 "nbformat": 4,
 "nbformat_minor": 0
}
