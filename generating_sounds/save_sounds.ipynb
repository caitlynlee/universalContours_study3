{
 "cells": [
  {
   "cell_type": "markdown",
   "metadata": {},
   "source": [
    "# Generating sounds with uniformly distributes spectral centroids\n",
    "---\n",
    "\n",
    "Use pyo library, with 3 generators: LFO/SineLoop, SAW table, and a chaotic attractor for the Rossler system. All sounds saved are 3 seconds long, on one channel, and limited between 40-10000Hz. \n",
    "\n",
    "For each type of noise, the different parameters of that sound generator are generated using random numbers. The range of the random numbers that are chosen from each parameter are taken from the range of possible input. Found here: http://ajaxsoundstudio.com/pyodoc/api/classes/generators.html \n",
    "\n",
    "Note: pyo is a finicky system. The quickest/most reliable way to generate a large-ish number of random sounds is to separate the server booting command from the rest of the code. This means all the code must be manually looped through to generate a single sound at a time. "
   ]
  },
  {
   "cell_type": "markdown",
   "metadata": {},
   "source": [
    "---\n",
    "**Importing libraries**"
   ]
  },
  {
   "cell_type": "code",
   "execution_count": 2,
   "metadata": {
    "collapsed": false,
    "scrolled": true
   },
   "outputs": [],
   "source": [
    "from pyo import *\n",
    "import os\n",
    "import random\n",
    "import spectral_centroid as sc"
   ]
  },
  {
   "cell_type": "markdown",
   "metadata": {},
   "source": [
    "### One type of noise. \n",
    "\n",
    "Using a LFO and SineLoop, with random integers. Naming each file some unique name. The name doesn't matter now, as it will be changed later. The names only contain \"test\" and some number, for easy finding later. "
   ]
  },
  {
   "cell_type": "code",
   "execution_count": 414,
   "metadata": {
    "collapsed": true
   },
   "outputs": [],
   "source": [
    "num=119"
   ]
  },
  {
   "cell_type": "code",
   "execution_count": 415,
   "metadata": {
    "collapsed": false,
    "scrolled": true
   },
   "outputs": [],
   "source": [
    "filename = os.path.join(os.path.expanduser(\"~\"),\"Documents\", \"Dartmouth\", \"wheatlab\", \n",
    "                        \"universal_contours\", \"sounds\", \"test2_\" + str(num) + \".wav\")\n",
    "\n",
    " "
   ]
  },
  {
   "cell_type": "code",
   "execution_count": 416,
   "metadata": {
    "collapsed": false,
    "scrolled": true
   },
   "outputs": [
    {
     "data": {
      "text/plain": [
       "<pyolib.server.Server at 0x11285b510>"
      ]
     },
     "execution_count": 416,
     "metadata": {},
     "output_type": "execute_result"
    }
   ],
   "source": [
    "s = Server(audio='offline_nb', nchnls=1)\n",
    "s.recordOptions(dur=3, filename=filename, \n",
    "               fileformat=0, )\n",
    "s.boot()  "
   ]
  },
  {
   "cell_type": "code",
   "execution_count": 417,
   "metadata": {
    "collapsed": false,
    "scrolled": true
   },
   "outputs": [
    {
     "name": "stdout",
     "output_type": "stream",
     "text": [
      "Offline Server rendering file /Users/caitlyn/Documents/Dartmouth/wheatlab/universal_contours/sounds/test2_119.wav dur=3.000000\n",
      "Offline Server rendering finished.\n"
     ]
    }
   ],
   "source": [
    "s.start()\n",
    "randoms = []\n",
    "randoms = [random.random() for i in range(5)]\n",
    "randoms.append(random.randint(0,7))\n",
    "randoms.append(random.randint(0,7))\n",
    "randoms.append(random.randint(50,2000))\n",
    "randoms.append(random.randint(0,500))\n",
    "randoms.append(random.uniform(0, 0.05))\n",
    "\n",
    "\n",
    "lf = Sine([randoms[0],randoms[1]], mul=15, add=20)\n",
    "lf2 = LFO([randoms[2],randoms[3]], sharp=randoms[4], type=randoms[5], mul=.4, add=.4)\n",
    "a = LFO(freq=lf, sharp=lf2, type=randoms[6], mul=randoms[7], add=randoms[8])\n",
    "b = SineLoop(freq=a, feedback=randoms[9], mul=.2).out()        "
   ]
  },
  {
   "cell_type": "code",
   "execution_count": 418,
   "metadata": {
    "collapsed": false,
    "scrolled": true
   },
   "outputs": [
    {
     "name": "stdout",
     "output_type": "stream",
     "text": [
      "120\n"
     ]
    }
   ],
   "source": [
    "num+=1\n",
    "randoms = []\n",
    "print num"
   ]
  },
  {
   "cell_type": "markdown",
   "metadata": {},
   "source": [
    "### Saw table\n",
    "\n",
    "Using saw waves. Output files are named with \"SAW\" in the filename, to distinguish later. "
   ]
  },
  {
   "cell_type": "code",
   "execution_count": 412,
   "metadata": {
    "collapsed": true
   },
   "outputs": [],
   "source": [
    "num = 200"
   ]
  },
  {
   "cell_type": "code",
   "execution_count": 413,
   "metadata": {
    "collapsed": true
   },
   "outputs": [],
   "source": [
    "filename = os.path.join(os.path.expanduser(\"~\"),\"Documents\", \"Dartmouth\", \"wheatlab\", \n",
    "                        \"universal_contours\", \"sounds\", \"SAW\" + str(num) + \".wav\")\n",
    "\n",
    " "
   ]
  },
  {
   "cell_type": "code",
   "execution_count": 158,
   "metadata": {
    "collapsed": false
   },
   "outputs": [
    {
     "data": {
      "text/plain": [
       "<pyolib.server.Server at 0x112806410>"
      ]
     },
     "execution_count": 158,
     "metadata": {},
     "output_type": "execute_result"
    }
   ],
   "source": [
    "s = Server(audio='offline_nb', nchnls=1)\n",
    "s.recordOptions(dur=3, filename=filename, \n",
    "               fileformat=0, )\n",
    "s.boot()  "
   ]
  },
  {
   "cell_type": "code",
   "execution_count": 1005,
   "metadata": {
    "collapsed": false
   },
   "outputs": [
    {
     "name": "stdout",
     "output_type": "stream",
     "text": [
      "Offline Server rendering file /Users/caitlyn/Documents/Dartmouth/wheatlab/universal_contours/sounds/SAW250.wav dur=3.000000\n",
      "Offline Server rendering finished.\n"
     ]
    }
   ],
   "source": [
    "s.start()\n",
    "\n",
    "randoms = []\n",
    "randoms.append(random.randint(0,50))\n",
    "randoms.append(random.randint(0,500))\n",
    "\n",
    "\n",
    "t = SawTable(order=randoms[0]).normalize()\n",
    "a = Osc(table=t, freq=randoms[1], mul=.2).out()"
   ]
  },
  {
   "cell_type": "code",
   "execution_count": 1006,
   "metadata": {
    "collapsed": false
   },
   "outputs": [
    {
     "name": "stdout",
     "output_type": "stream",
     "text": [
      "251\n"
     ]
    }
   ],
   "source": [
    "num+=1\n",
    "randoms = []\n",
    "print num"
   ]
  },
  {
   "cell_type": "markdown",
   "metadata": {
    "collapsed": true
   },
   "source": [
    "### Chaotic attractor for the Rossler system\n",
    "\n",
    "\"The Rossler attractor is a system of three non-linear ordinary differential equations. These differential equations define a continuous-time dynamical system that exhibits chaotic dynamics associated with the fractal properties of the attractor.\"\n",
    "\n",
    "What do I actually know about this? Not much. Implemented using both Rossler and Sine as the modulator of the second multiplier. Filenames contain \"ROS\" to distinguish and find later. \n"
   ]
  },
  {
   "cell_type": "code",
   "execution_count": 340,
   "metadata": {
    "collapsed": true
   },
   "outputs": [],
   "source": [
    "num = 200"
   ]
  },
  {
   "cell_type": "code",
   "execution_count": 441,
   "metadata": {
    "collapsed": true
   },
   "outputs": [],
   "source": [
    "filename = os.path.join(os.path.expanduser(\"~\"),\"Documents\", \"Dartmouth\", \"wheatlab\", \n",
    "                        \"universal_contours\", \"sounds\", \"Ros\" + str(num) + \".wav\")\n",
    "\n",
    " "
   ]
  },
  {
   "cell_type": "code",
   "execution_count": 442,
   "metadata": {
    "collapsed": false
   },
   "outputs": [
    {
     "data": {
      "text/plain": [
       "<pyolib.server.Server at 0x112756390>"
      ]
     },
     "execution_count": 442,
     "metadata": {},
     "output_type": "execute_result"
    }
   ],
   "source": [
    "s = Server(audio='offline_nb', nchnls=1)\n",
    "s.recordOptions(dur=3, filename=filename, \n",
    "               fileformat=0, )\n",
    "s.boot()  "
   ]
  },
  {
   "cell_type": "code",
   "execution_count": 443,
   "metadata": {
    "collapsed": false,
    "scrolled": true
   },
   "outputs": [
    {
     "name": "stdout",
     "output_type": "stream",
     "text": [
      "Offline Server rendering file /Users/caitlyn/Documents/Dartmouth/wheatlab/universal_contours/sounds/Ros225.wav dur=3.000000\n",
      "Offline Server rendering finished.\n"
     ]
    }
   ],
   "source": [
    "s.start()\n",
    "\n",
    "randoms = []\n",
    "randoms.append(random.uniform(0,1))\n",
    "randoms.append(random.uniform(0,1))\n",
    "randoms.append(random.uniform(0,1))\n",
    "randoms.append(random.uniform(0,1))\n",
    "\n",
    "\n",
    "lf = Sine([randoms[0],randoms[1]], mul=0.05, add=0.78)\n",
    "a = Rossler(pitch=0.5, stereo=False, mul=.2, add=.2)\n",
    "b = Rossler(pitch=randoms[2], mul=lf).out()"
   ]
  },
  {
   "cell_type": "code",
   "execution_count": 444,
   "metadata": {
    "collapsed": false
   },
   "outputs": [
    {
     "name": "stdout",
     "output_type": "stream",
     "text": [
      "226\n"
     ]
    }
   ],
   "source": [
    "num+=1\n",
    "randoms = []\n",
    "print num"
   ]
  }
 ],
 "metadata": {
  "kernelspec": {
   "display_name": "Python 2",
   "language": "python",
   "name": "python2"
  },
  "language_info": {
   "codemirror_mode": {
    "name": "ipython",
    "version": 2
   },
   "file_extension": ".py",
   "mimetype": "text/x-python",
   "name": "python",
   "nbconvert_exporter": "python",
   "pygments_lexer": "ipython2",
   "version": "2.7.11"
  }
 },
 "nbformat": 4,
 "nbformat_minor": 0
}
